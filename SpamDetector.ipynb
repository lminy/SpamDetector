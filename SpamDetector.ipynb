{
 "cells": [
  {
   "cell_type": "markdown",
   "metadata": {},
   "source": [
    "# SpamDetector"
   ]
  },
  {
   "cell_type": "markdown",
   "metadata": {
    "collapsed": true
   },
   "source": [
    "## Preprocessing"
   ]
  },
  {
   "cell_type": "code",
   "execution_count": 1,
   "metadata": {
    "collapsed": true
   },
   "outputs": [],
   "source": [
    "#%run ExtractContent.py TR/ TRAIN/"
   ]
  },
  {
   "cell_type": "code",
   "execution_count": 189,
   "metadata": {},
   "outputs": [],
   "source": [
    "%%python3\n",
    "import nltk\n",
    "nltk.download('punkt')\n",
    "nltk.download('stopwords')"
   ]
  },
  {
   "cell_type": "code",
   "execution_count": 295,
   "metadata": {},
   "outputs": [
    {
     "name": "stderr",
     "output_type": "stream",
     "text": [
      "/Library/Frameworks/Python.framework/Versions/3.5/lib/python3.5/site-packages/bs4/__init__.py:282: UserWarning: \"http://www.post-gazette.com/columnists/20020905brian5.asp\" looks like a URL. Beautiful Soup is not an HTTP client. You should probably use an HTTP client like requests to get the document behind the URL, and feed that document to Beautiful Soup.\n",
      "  ' that document to Beautiful Soup.' % decoded_markup\n"
     ]
    }
   ],
   "source": [
    "%%script bash\n",
    "python3 FeaturesFromMail.py TR/ TRAIN_pre/ >> /dev/null"
   ]
  },
  {
   "cell_type": "code",
   "execution_count": 190,
   "metadata": {
    "collapsed": true
   },
   "outputs": [],
   "source": [
    "# Get labels\n",
    "import string\n",
    "import csv\n",
    "y = list() # y = labels\n",
    "with open('spam-mail.tr.label','rb') as f :\n",
    "    labels_reader = csv.reader(f, delimiter=',')\n",
    "    count_row = 0\n",
    "\n",
    "    for row in labels_reader:\n",
    "        if count_row != 0 :\n",
    "            y.append(row[1])\n",
    "        count_row = count_row + 1\n",
    "        \n",
    "class_names = ['Spam', 'Ham']\n",
    "#print y"
   ]
  },
  {
   "cell_type": "code",
   "execution_count": 296,
   "metadata": {},
   "outputs": [
    {
     "name": "stdout",
     "output_type": "stream",
     "text": [
      "[1, 1, 1]\n",
      "one kind money maker tri free consant bombard call free money make system teas limit inform it said done blind side demand money credit card inform upfront slick way fact yes skeptic offer internet general hype probabl fortun main busi slow self employ life look someth fit lifestyl way assist pay bill without work death loos money propos tri someth new without upfront invest great none interest click link provid dont regret happi happi enough recommend system true word mean absolut upfront money join make money also get track result time effort instant updat daili especi like idea person control real time stay inform statist system quit simpli logic open fair other iv seen start get specif fact need serious consid right teas grand testimoni kid fact unlik program give no idea overal plan first fork money credit card worst yet join find late wast valuabl time tri figur system straightforward inform provid two thing realli must know what  how work  ultim deal maker deal breaker need immedi disclos well discov mayb dont want hooked lock frustrat battl tri get money back call platinum choice stand alon true superior deal total differ previous mislead hook first program promis lofti mega money jackpot realli want money upfront line pocket youv seen headlin join free make 10 000 everi week life yeah right make million yet whole thing launch week ago happi earn far must tell wouldnt abl anyth without corpor help  unusu thorough time motiv see action make mind go site fill form soon get site minut readi tri whether make decent money system internet explos potenti fulli load hi tech softwar free corpor help time member support even protect safeguard get call time question realli could help like help final abl pay bill keep free time free good luck http www mindupmerch com default asp id 5581 ben green 775 322 3323 p free pop3 email ofer member\n"
     ]
    }
   ],
   "source": [
    "with open('TRAIN_pre/features', 'r') as f :\n",
    "    features = json.loads(f.read())\n",
    "    print features[3][:3]\n",
    "    # text = Object + Body + Attachment if .txt + Attachment filenames + X-Mailer\n",
    "    # nbrHops = # of server where the mail has been received (# of received in mail header)\n",
    "    # nbrReceivers = total # of receiver in To, Cc and Bcc\n",
    "    # validityDate = the date mail is valid only if not in the future\n",
    "    features_name = ['text', 'nbrHops', 'nbrReceivers', 'validityDate']\n",
    "print features[0][0]"
   ]
  },
  {
   "cell_type": "code",
   "execution_count": 297,
   "metadata": {
    "collapsed": true
   },
   "outputs": [],
   "source": [
    "text = features[0]\n",
    "# Compute TF-IDF features\n",
    "tfidf = TfidfVectorizer()#stop_words='english', strip_accents='ascii')\n",
    "tfidf.fit(text) # tfidf remembers the term frequencies and vocabulary that was used to fit it.\n",
    "X = tfidf.transform(text)\n",
    "#print(type(X))"
   ]
  },
  {
   "cell_type": "code",
   "execution_count": 191,
   "metadata": {},
   "outputs": [],
   "source": [
    "from sklearn.feature_extraction.text import TfidfVectorizer\n",
    "\n",
    "# Get mails\n",
    "def get_mails(folder_name, prefix) :\n",
    "    from sklearn.feature_extraction.text import TfidfVectorizer\n",
    "    import codecs\n",
    "\n",
    "    from os import listdir\n",
    "    from os.path import isfile, join\n",
    "    files = [f for f in listdir(folder_name) if isfile(join(folder_name, f)) and f.endswith('.eml')]\n",
    "    \n",
    "    mails = list()\n",
    "    for i in range(1, len(files) + 1) :\n",
    "        path = folder_name + '/' + prefix + '_%s.eml'%i\n",
    "        with codecs.open(path, 'r', encoding='utf-8', errors='ignore') as f :\n",
    "            mail = f.read()\n",
    "            mails.append(mail)\n",
    "    return mails\n",
    "\n",
    "mails = get_mails('TRAIN_pre', 'TRAIN')\n",
    "\n",
    "# Compute TF-IDF features\n",
    "tfidf = TfidfVectorizer()#stop_words='english', strip_accents='ascii')\n",
    "tfidf.fit(mails) # tfidf remembers the term frequencies and vocabulary that was used to fit it.\n",
    "X = tfidf.transform(mails)\n",
    "#print(type(X))"
   ]
  },
  {
   "cell_type": "code",
   "execution_count": 4,
   "metadata": {
    "collapsed": true
   },
   "outputs": [],
   "source": [
    "#print X"
   ]
  },
  {
   "cell_type": "code",
   "execution_count": 298,
   "metadata": {
    "collapsed": true
   },
   "outputs": [],
   "source": [
    "# Divise dataset\n",
    "def divide_dataset(X, y) :\n",
    "    from sklearn.model_selection import train_test_split\n",
    "    X_train, X_test, y_train, y_test = train_test_split(X.toarray(), y, test_size=0.33, random_state=42)\n",
    "    return (X_train, X_test, y_train, y_test)\n",
    "\n",
    "X_train, X_test, y_train, y_test = divide_dataset(X, y)"
   ]
  },
  {
   "cell_type": "markdown",
   "metadata": {},
   "source": [
    "## Machine Learning"
   ]
  },
  {
   "cell_type": "markdown",
   "metadata": {},
   "source": [
    "### Tools"
   ]
  },
  {
   "cell_type": "code",
   "execution_count": 6,
   "metadata": {
    "collapsed": true
   },
   "outputs": [],
   "source": [
    "# Inspired from : http://scikit-learn.org/stable/auto_examples/model_selection/plot_confusion_matrix.html\n",
    "import numpy as np\n",
    "from sklearn.metrics import confusion_matrix\n",
    "import itertools\n",
    "import matplotlib.pyplot as plt\n",
    "%matplotlib inline\n",
    "\n",
    "def plot_confusion_matrix(cm, classes,\n",
    "                          normalize=False,\n",
    "                          title='Confusion matrix',\n",
    "                          cmap=plt.cm.Blues):\n",
    "    #plt.figure()\n",
    "    \"\"\"\n",
    "    This function prints and plots the confusion matrix.\n",
    "    Normalization can be applied by setting `normalize=True`.\n",
    "    \"\"\"\n",
    "    if normalize:\n",
    "        cm = cm.astype('float') / cm.sum(axis=1)[:, np.newaxis]\n",
    "        print(\"Normalized confusion matrix\")\n",
    "    else:\n",
    "        print('Confusion matrix, without normalization')\n",
    "\n",
    "    #print(cm)\n",
    "\n",
    "    plt.imshow(cm, interpolation='nearest', cmap=cmap)\n",
    "    plt.title(title)\n",
    "    plt.colorbar()\n",
    "    tick_marks = np.arange(len(classes))\n",
    "    plt.xticks(tick_marks, classes, rotation=45)\n",
    "    plt.yticks(tick_marks, classes)\n",
    "\n",
    "    fmt = '.2f' if normalize else 'd'\n",
    "    thresh = cm.max() / 2.\n",
    "    for i, j in itertools.product(range(cm.shape[0]), range(cm.shape[1])):\n",
    "        plt.text(j, i, format(cm[i, j], fmt),\n",
    "                 horizontalalignment=\"center\",\n",
    "                 color=\"white\" if cm[i, j] > thresh else \"black\")\n",
    "\n",
    "    plt.tight_layout()\n",
    "    plt.ylabel('True label')\n",
    "    plt.xlabel('Predicted label')\n",
    "    plt.show()"
   ]
  },
  {
   "cell_type": "code",
   "execution_count": 11,
   "metadata": {},
   "outputs": [
    {
     "name": "stdout",
     "output_type": "stream",
     "text": [
      "Confusion matrix, without normalization\n"
     ]
    },
    {
     "data": {
      "image/png": "[encoded data removed]",
      "text/plain": [
       "<matplotlib.figure.Figure at 0x104249910>"
      ]
     },
     "metadata": {},
     "output_type": "display_data"
    }
   ],
   "source": [
    "# Compute confusion matrix\n",
    "cnf_matrix = confusion_matrix(y_test, y_pred)\n",
    "plot_confusion_matrix(cnf_matrix, classes=class_names, title='Confusion matrix')"
   ]
  },
  {
   "cell_type": "code",
   "execution_count": null,
   "metadata": {
    "collapsed": true
   },
   "outputs": [],
   "source": [
    "#k-NN, Naive Bayes, SVM, Perceptron"
   ]
  },
  {
   "cell_type": "markdown",
   "metadata": {},
   "source": [
    "# Classification"
   ]
  },
  {
   "cell_type": "code",
   "execution_count": 27,
   "metadata": {
    "collapsed": true
   },
   "outputs": [],
   "source": [
    "from sklearn.model_selection import GridSearchCV\n",
    "from sklearn import tree\n",
    "from sklearn.neighbors import KNeighborsClassifier\n",
    "from sklearn import svm\n",
    "from sklearn.naive_bayes import MultinomialNB\n",
    "from sklearn.naive_bayes import BernoulliNB\n",
    "from sklearn.naive_bayes import GaussianNB\n"
   ]
  },
  {
   "cell_type": "code",
   "execution_count": 28,
   "metadata": {
    "collapsed": true
   },
   "outputs": [],
   "source": [
    "results = dict()"
   ]
  },
  {
   "cell_type": "code",
   "execution_count": 278,
   "metadata": {
    "collapsed": true
   },
   "outputs": [],
   "source": [
    "results_prepro = dict()"
   ]
  },
  {
   "cell_type": "code",
   "execution_count": 279,
   "metadata": {},
   "outputs": [],
   "source": [
    "import time\n",
    "import datetime\n",
    "def train(classifier, name, param_grid=None) :\n",
    "    start_time = time.time()\n",
    "    if param_grid == None :\n",
    "        classifier.fit(X_train, y_train)\n",
    "        results_prepro[name] = dict(model=classifier)\n",
    "    else :\n",
    "        grid = GridSearchCV(classifier, param_grid, cv=10, scoring='accuracy', n_jobs=2) # Do a 10-fold cross validation\n",
    "        grid.fit(X, y) # fit the grid with data\n",
    "        results_prepro[name] = dict(grid=grid, model=classifier)\n",
    "    #total_time = datetime.datetime.fromtimestamp(time.time() - start_time)\n",
    "    total_time = datetime.timedelta(seconds=time.time() - start_time)\n",
    "    print(\"Training time : \" + str(total_time))#.strftime('%H:%M:%S'))"
   ]
  },
  {
   "cell_type": "markdown",
   "metadata": {},
   "source": [
    "## k-NN classifier"
   ]
  },
  {
   "cell_type": "code",
   "execution_count": 114,
   "metadata": {},
   "outputs": [],
   "source": [
    "name = \"k-NN\"\n",
    "classifier = KNeighborsClassifier(weights='uniform')\n",
    "k_range = list(range(1, 31)) # list of parameter values to test\n",
    "param_grid = dict(n_neighbors=k_range)\n",
    "train(classifier, name, param_grid)"
   ]
  },
  {
   "cell_type": "markdown",
   "metadata": {},
   "source": [
    "## Decision tree"
   ]
  },
  {
   "cell_type": "code",
   "execution_count": 199,
   "metadata": {},
   "outputs": [
    {
     "name": "stdout",
     "output_type": "stream",
     "text": [
      "Training time : 0:01:19.670116\n"
     ]
    }
   ],
   "source": [
    "name = \"Decision tree\"\n",
    "classifier = tree.DecisionTreeClassifier(criterion='entropy')\n",
    "d_range = list(range(1, 31)) # list of parameter values to test\n",
    "#s_range = list(range(2, 10))\n",
    "param_grid = dict(max_depth=d_range)#, min_samples_split=s_range)\n",
    "train(classifier, name, param_grid)"
   ]
  },
  {
   "cell_type": "markdown",
   "metadata": {},
   "source": [
    "## Naive Bayes"
   ]
  },
  {
   "cell_type": "code",
   "execution_count": 132,
   "metadata": {},
   "outputs": [
    {
     "name": "stdout",
     "output_type": "stream",
     "text": [
      "Training time : 0:00:03.317987\n"
     ]
    }
   ],
   "source": [
    "name = \"Naive Bayes - Gaussian\"\n",
    "classifier = GaussianNB()\n",
    "train(classifier, name)"
   ]
  },
  {
   "cell_type": "code",
   "execution_count": 133,
   "metadata": {},
   "outputs": [
    {
     "name": "stdout",
     "output_type": "stream",
     "text": [
      "Training time : 0:00:00.345581\n"
     ]
    }
   ],
   "source": [
    "name = \"Naive Bayes - Multinomial\"\n",
    "classifier = MultinomialNB()\n",
    "train(classifier, name)"
   ]
  },
  {
   "cell_type": "code",
   "execution_count": 223,
   "metadata": {},
   "outputs": [
    {
     "name": "stdout",
     "output_type": "stream",
     "text": [
      "Training time : 0:00:03.305671\n"
     ]
    }
   ],
   "source": [
    "name = \"Naive Bayes - Bernoulli\"\n",
    "classifier = BernoulliNB()\n",
    "train(classifier, name)"
   ]
  },
  {
   "cell_type": "markdown",
   "metadata": {},
   "source": [
    "## SVM - Support Vector Machine"
   ]
  },
  {
   "cell_type": "code",
   "execution_count": 145,
   "metadata": {},
   "outputs": [],
   "source": [
    "name = \"SVM\"\n",
    "classifier = svm.SVC()\n",
    "C_range = np.logspace(-2, 10, 13)\n",
    "print C_range\n",
    "gamma_range = np.logspace(-9, 3, 13)\n",
    "print gamma_range\n",
    "param_grid = dict(gamma=gamma_range, C=C_range)\n",
    "train(classifier, name, param_grid)"
   ]
  },
  {
   "cell_type": "code",
   "execution_count": 146,
   "metadata": {},
   "outputs": [
    {
     "name": "stdout",
     "output_type": "stream",
     "text": [
      "[1, 11, 21, 31, 41, 51, 61, 71, 81, 91]\n"
     ]
    }
   ],
   "source": [
    "print(range(1, 100, 10))"
   ]
  },
  {
   "cell_type": "code",
   "execution_count": 299,
   "metadata": {},
   "outputs": [
    {
     "name": "stdout",
     "output_type": "stream",
     "text": [
      "Training time : 0:01:07.522702\n"
     ]
    }
   ],
   "source": [
    "name = \"SVM - Linear\"\n",
    "classifier = svm.LinearSVC()\n",
    "C_range = range(170,230,5)\n",
    "C_range = range(1,200,10)\n",
    "param_grid = dict(C=C_range)\n",
    "train(classifier, name, param_grid)"
   ]
  },
  {
   "cell_type": "code",
   "execution_count": 77,
   "metadata": {},
   "outputs": [
    {
     "data": {
      "image/png": "[encoded data removed]",
      "text/plain": [
       "<matplotlib.figure.Figure at 0x111ee4790>"
      ]
     },
     "metadata": {},
     "output_type": "display_data"
    }
   ],
   "source": [
    "for clf_name, result in results.iteritems() :\n",
    "    #plt.clf()\n",
    "    #plt.figure()\n",
    "    if \"grid\" in result and clf_name != 'SVM':\n",
    "        grid_mean_scores = result.grid.cv_results_['mean_test_score']\n",
    "        plt.plot(k_range, grid_mean_scores, label=clf_name)\n",
    "        plt.title(\"Test error\")\n",
    "        #plt.title(clf_name)\n",
    "        plt.legend()\n",
    "        plt.xlabel('Parameter value')\n",
    "        plt.ylabel('Cross-Validated Accuracy')\n",
    "        #plt.show()\n",
    "    else : # Model without param\n",
    "        pass"
   ]
  },
  {
   "cell_type": "code",
   "execution_count": 300,
   "metadata": {},
   "outputs": [
    {
     "name": "stdout",
     "output_type": "stream",
     "text": [
      "+--------------+------------+-------------+----+----+\n",
      "|    Model     | Best score | Best params | FP | TN |\n",
      "+--------------+------------+-------------+----+----+\n",
      "| SVM - Linear |   0.9792   |  {'C': 11}  | 5  | 19 |\n",
      "+--------------+------------+-------------+----+----+\n"
     ]
    }
   ],
   "source": [
    "from prettytable import PrettyTable\n",
    "import operator\n",
    "t = PrettyTable(['Model', 'Best score', 'Best params', 'FP', 'TN'])\n",
    "for clf_name, result in results_prepro.iteritems() :\n",
    "    model = result['model']\n",
    "    if 'grid' in result :\n",
    "        grid = result['grid']\n",
    "        # Compute false positives and false negatives\n",
    "        model.__init__(**grid.best_params_)\n",
    "        model.fit(X_train, y_train)\n",
    "        y_pred = model.predict(X_test)\n",
    "        cm = confusion_matrix(y_test, y_pred)\n",
    "        fp = cm[1,0]\n",
    "        tn = cm[0,1]\n",
    "        \n",
    "        t.add_row([clf_name, round(grid.best_score_, 4), grid.best_params_, fp, tn])\n",
    "        #print(result.best_estimator_)\n",
    "    else : # For non grid_search models\n",
    "        #training_error = clf.score(X_train, y_train)\n",
    "        test_error = model.score(X_test, y_test)\n",
    "        \n",
    "        # Compute false positives and false negatives\n",
    "        y_pred = model.predict(X_test)\n",
    "        cm = confusion_matrix(y_test, y_pred)\n",
    "        fp = cm[1,0]\n",
    "        tn = cm[0,1]\n",
    "        \n",
    "        t.add_row([clf_name, round(test_error, 4), None, fp, tn])\n",
    "        \n",
    "print t.get_string(sort_key=operator.itemgetter(2, 1), sortby=\"Best score\", reversesort=True)"
   ]
  },
  {
   "cell_type": "code",
   "execution_count": 274,
   "metadata": {},
   "outputs": [
    {
     "name": "stdout",
     "output_type": "stream",
     "text": [
      "+--------------+------------+-------------+----+-----+\n",
      "|    Model     | Best score | Best params | FP |  TN |\n",
      "+--------------+------------+-------------+----+-----+\n",
      "| SVM - Linear |   0.634    |   {'C': 1}  | 82 | 215 |\n",
      "+--------------+------------+-------------+----+-----+\n"
     ]
    }
   ],
   "source": [
    "from prettytable import PrettyTable\n",
    "import operator\n",
    "t = PrettyTable(['Model', 'Best score', 'Best params', 'FP', 'TN'])\n",
    "for clf_name, result in results_prepro.iteritems() :\n",
    "    model = result['model']\n",
    "    if 'grid' in result :\n",
    "        grid = result['grid']\n",
    "        # Compute false positives and false negatives\n",
    "        model.__init__(**grid.best_params_)\n",
    "        model.fit(X_train, y_train)\n",
    "        y_pred = model.predict(X_test)\n",
    "        cm = confusion_matrix(y_test, y_pred)\n",
    "        fp = cm[1,0]\n",
    "        tn = cm[0,1]\n",
    "        \n",
    "        t.add_row([clf_name, round(grid.best_score_, 4), grid.best_params_, fp, tn])\n",
    "        #print(result.best_estimator_)\n",
    "    else : # For non grid_search models\n",
    "        #training_error = clf.score(X_train, y_train)\n",
    "        test_error = model.score(X_test, y_test)\n",
    "        \n",
    "        # Compute false positives and false negatives\n",
    "        y_pred = model.predict(X_test)\n",
    "        cm = confusion_matrix(y_test, y_pred)\n",
    "        fp = cm[1,0]\n",
    "        tn = cm[0,1]\n",
    "        \n",
    "        t.add_row([clf_name, round(test_error, 4), None, fp, tn])\n",
    "        \n",
    "print t.get_string(sort_key=operator.itemgetter(2, 1), sortby=\"Best score\", reversesort=True)"
   ]
  },
  {
   "cell_type": "code",
   "execution_count": 156,
   "metadata": {},
   "outputs": [
    {
     "name": "stdout",
     "output_type": "stream",
     "text": [
      "+---------------------------+------------+--------------------+\n",
      "|           Model           | Best score |    Best params     |\n",
      "+---------------------------+------------+--------------------+\n",
      "|        SVM - Linear       |   0.988    |     {'C': 180}     |\n",
      "|       Decision tree       |   0.9652   | {'max_depth': 23}  |\n",
      "|            k-NN           |   0.9532   | {'n_neighbors': 1} |\n",
      "|   Naive Bayes - Gaussian  |   0.9224   |        None        |\n",
      "| Naive Bayes - Multinomial |   0.8679   |        None        |\n",
      "|  Naive Bayes - Bernoulli  |   0.8291   |        None        |\n",
      "|            SVM            |   0.6884   |     {'C': 10}      |\n",
      "+---------------------------+------------+--------------------+\n"
     ]
    }
   ],
   "source": [
    "from prettytable import PrettyTable\n",
    "import operator\n",
    "t = PrettyTable(['Model', 'Best score', 'Best params'])\n",
    "for clf_name, result in results_prepro.iteritems() :\n",
    "    if grid in result :\n",
    "        t.add_row([clf_name, round(result.grid.best_score_, 4), result.grid.best_params_])\n",
    "        #print(result.best_estimator_)\n",
    "    else : # For non grid_search models\n",
    "        #training_error = clf.score(X_train, y_train)\n",
    "        test_error = result['model'].score(X_test, y_test)\n",
    "        t.add_row([clf_name, round(test_error, 4), None])\n",
    "        \n",
    "print t.get_string(sort_key=operator.itemgetter(2, 1), sortby=\"Best score\", reversesort=True)"
   ]
  },
  {
   "cell_type": "markdown",
   "metadata": {},
   "source": [
    "# Prediction"
   ]
  },
  {
   "cell_type": "code",
   "execution_count": 158,
   "metadata": {},
   "outputs": [
    {
     "name": "stdout",
     "output_type": "stream",
     "text": [
      "The destination directory is newly created.\n"
     ]
    }
   ],
   "source": [
    "%run ExtractContent.py TT/ TEST_pre/"
   ]
  },
  {
   "cell_type": "code",
   "execution_count": 169,
   "metadata": {},
   "outputs": [],
   "source": [
    "mails_kaggle = get_mails('TEST_pre', 'TEST')\n",
    "# Compute TF-IDF features\n",
    "X_kaggle = tfidf.transform(mails_kaggle)"
   ]
  },
  {
   "cell_type": "code",
   "execution_count": 170,
   "metadata": {},
   "outputs": [],
   "source": [
    "# Train again the classifier on the whole datasets (X, y) including testing datasets\n",
    "# with the best hyper parameters\n",
    "#grid = results[\"Decision tree\"]\n",
    "#grid.predict()\n",
    "\n",
    "model = svm.LinearSVC(C=180)\n",
    "#best_max_depth = 7\n",
    "#model = tree.DecisionTreeClassifier(criterion='entropy', max_depth=best_max_depth) # classifier = learning algorithm that will learn from the training dataset\n",
    "model.fit(X, y)\n",
    "\n",
    "# Now predict new mails from the TEST dataset (non-labeled)\n",
    "y_kaggle = model.predict(X_kaggle)"
   ]
  },
  {
   "cell_type": "code",
   "execution_count": 171,
   "metadata": {
    "collapsed": true
   },
   "outputs": [],
   "source": [
    "# Store predicted labels\n",
    "fd = open('spam-mail.tt.label', 'w')\n",
    "fd.write('Id,Prediction')\n",
    "\n",
    "for i in range(0, len(y_kaggle)):\n",
    "    fd.write('\\n%d,%s' % (i+1, y_kaggle[i]))\n",
    "\n",
    "fd.close()"
   ]
  }
 ],
 "metadata": {
  "kernelspec": {
   "display_name": "Python 2",
   "language": "python",
   "name": "python2"
  },
  "language_info": {
   "codemirror_mode": {
    "name": "ipython",
    "version": 2
   },
   "file_extension": ".py",
   "mimetype": "text/x-python",
   "name": "python",
   "nbconvert_exporter": "python",
   "pygments_lexer": "ipython2",
   "version": "2.7.13"
  }
 },
 "nbformat": 4,
 "nbformat_minor": 2
}
