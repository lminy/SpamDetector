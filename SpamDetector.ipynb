{
 "cells": [
  {
   "cell_type": "markdown",
   "metadata": {},
   "source": [
    "# SpamDetector"
   ]
  },
  {
   "cell_type": "markdown",
   "metadata": {
    "collapsed": true
   },
   "source": [
    "## Preprocessing"
   ]
  },
  {
   "cell_type": "code",
   "execution_count": 2,
   "metadata": {},
   "outputs": [
    {
     "name": "stdout",
     "output_type": "stream",
     "text": [
      "The destination directory is newly created.\n"
     ]
    }
   ],
   "source": [
    "%run ExtractContent.py TR/ TRAIN/"
   ]
  },
  {
   "cell_type": "code",
   "execution_count": 43,
   "metadata": {
    "collapsed": true
   },
   "outputs": [],
   "source": [
    "# Get labels\n",
    "import string\n",
    "import csv\n",
    "labels = list()\n",
    "with open('spam-mail.tr.label','rb') as f :\n",
    "    labels_reader = csv.reader(f, delimiter=',')\n",
    "    count_row = 0\n",
    "\n",
    "    for row in labels_reader:\n",
    "        if count_row != 0 :\n",
    "            labels.append(row[1])\n",
    "        count_row = count_row + 1\n",
    "#print labels"
   ]
  },
  {
   "cell_type": "code",
   "execution_count": 46,
   "metadata": {},
   "outputs": [],
   "source": [
    "# Get mails\n",
    "from sklearn.feature_extraction.text import TfidfVectorizer\n",
    "import codecs\n",
    "\n",
    "mails = list()\n",
    "for i in range(1, 2501) :\n",
    "    with codecs.open('TRAIN/TRAIN_%s.eml'%i, 'r', encoding='utf-8', errors='ignore') as f :\n",
    "        mail = f.read()\n",
    "        mails.append(mail)\n",
    "\n",
    "# Compute TD-IDF features\n",
    "vectorizer = TfidfVectorizer(stop_words='english', strip_accents='ascii')\n",
    "mail_vectors = vectorizer.fit_transform(mails)"
   ]
  },
  {
   "cell_type": "code",
   "execution_count": 49,
   "metadata": {},
   "outputs": [],
   "source": [
    "# Divise dataset\n",
    "from sklearn.model_selection import train_test_split\n",
    "X_train, X_test, y_train, y_test = train_test_split(mail_vectors, labels, test_size=0.33, random_state=42)\n",
    "\n",
    "#vectors_test = vectorizer.transform(mail)\n",
    "#print vectors_train[0]"
   ]
  },
  {
   "cell_type": "markdown",
   "metadata": {},
   "source": [
    "## Machine Learning"
   ]
  },
  {
   "cell_type": "markdown",
   "metadata": {},
   "source": [
    "### Supervised - Decision tree"
   ]
  },
  {
   "cell_type": "code",
   "execution_count": 56,
   "metadata": {},
   "outputs": [
    {
     "name": "stdout",
     "output_type": "stream",
     "text": [
      "Training...\n",
      "Model trained!\n",
      "Training error : 0.151641791045\n",
      "Test error : 0.139393939394\n"
     ]
    }
   ],
   "source": [
    "# Train model\n",
    "print \"Training...\"\n",
    "from sklearn import tree\n",
    "\n",
    "clf = tree.DecisionTreeClassifier(criterion='entropy', max_depth=2) # classifier = learning algorithm that will learn from the training dataset\n",
    "model = clf.fit(X_train, y_train) # finds patterns in training data and create a set of rules (the model)\n",
    "print \"Model trained!\"\n",
    "\n",
    "training_error = 1-clf.score(X_train, y_train)\n",
    "test_error = 1-clf.score(X_test, y_test)\n",
    "print \"Training error : \" + str(training_error)\n",
    "print \"Test error : \" + str(test_error)\n",
    "\n"
   ]
  },
  {
   "cell_type": "code",
   "execution_count": null,
   "metadata": {},
   "outputs": [],
   "source": []
  },
  {
   "cell_type": "markdown",
   "metadata": {},
   "source": [
    "### Supervised - SVM"
   ]
  },
  {
   "cell_type": "code",
   "execution_count": null,
   "metadata": {
    "collapsed": true
   },
   "outputs": [],
   "source": [
    "\n",
    "\n"
   ]
  },
  {
   "cell_type": "code",
   "execution_count": 57,
   "metadata": {},
   "outputs": [
    {
     "name": "stdout",
     "output_type": "stream",
     "text": [
      "Some code\n"
     ]
    },
    {
     "data": {
      "text/plain": [
       "SVC(C=1.0, cache_size=200, class_weight=None, coef0=0.0,\n",
       "  decision_function_shape='ovr', degree=3, gamma='auto', kernel='rbf',\n",
       "  max_iter=-1, probability=False, random_state=None, shrinking=True,\n",
       "  tol=0.001, verbose=False)"
      ]
     },
     "execution_count": 57,
     "metadata": {},
     "output_type": "execute_result"
    }
   ],
   "source": [
    "print \"Some code\"\n",
    "from sklearn import svm\n",
    "X = [[0, 0], [1, 1]]\n",
    "y = [0, 1]\n",
    "clf = svm.SVC()\n",
    "clf.fit(X, y) \n"
   ]
  }
 ],
 "metadata": {
  "kernelspec": {
   "display_name": "Python 2",
   "language": "python",
   "name": "python2"
  },
  "language_info": {
   "codemirror_mode": {
    "name": "ipython",
    "version": 2
   },
   "file_extension": ".py",
   "mimetype": "text/x-python",
   "name": "python",
   "nbconvert_exporter": "python",
   "pygments_lexer": "ipython2",
   "version": "2.7.13"
  }
 },
 "nbformat": 4,
 "nbformat_minor": 2
}
