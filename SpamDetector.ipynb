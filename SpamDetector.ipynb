{
 "cells": [
  {
   "cell_type": "markdown",
   "metadata": {},
   "source": [
    "# SpamDetector"
   ]
  },
  {
   "cell_type": "markdown",
   "metadata": {
    "collapsed": true
   },
   "source": [
    "## Preprocessing"
   ]
  },
  {
   "cell_type": "code",
   "execution_count": 1,
   "metadata": {
    "collapsed": true
   },
   "outputs": [],
   "source": [
    "#%run ExtractContent.py TR/ TRAIN/\n"
   ]
  },
  {
   "cell_type": "code",
   "execution_count": 2,
   "metadata": {
    "collapsed": true
   },
   "outputs": [],
   "source": [
    "# Get labels\n",
    "import string\n",
    "import csv\n",
    "y = list() # y = labels\n",
    "with open('spam-mail.tr.label','rb') as f :\n",
    "    labels_reader = csv.reader(f, delimiter=',')\n",
    "    count_row = 0\n",
    "\n",
    "    for row in labels_reader:\n",
    "        if count_row != 0 :\n",
    "            y.append(row[1])\n",
    "        count_row = count_row + 1\n",
    "        \n",
    "class_names = ['Spam', 'Ham']\n",
    "#print y"
   ]
  },
  {
   "cell_type": "code",
   "execution_count": 18,
   "metadata": {},
   "outputs": [
    {
     "name": "stdout",
     "output_type": "stream",
     "text": [
      "<class 'scipy.sparse.csr.csr_matrix'>\n"
     ]
    }
   ],
   "source": [
    "from sklearn.feature_extraction.text import TfidfVectorizer\n",
    "\n",
    "# Get mails\n",
    "def get_mails(folder_name, prefix) :\n",
    "    from sklearn.feature_extraction.text import TfidfVectorizer\n",
    "    import codecs\n",
    "\n",
    "    from os import listdir\n",
    "    from os.path import isfile, join\n",
    "    files = [f for f in listdir(folder_name) if isfile(join(folder_name, f)) and f.endswith('.eml')]\n",
    "    \n",
    "    mails = list()\n",
    "    for i in range(1, len(files) + 1) :\n",
    "        path = folder_name + '/' + prefix + '_%s.eml'%i\n",
    "        with codecs.open(path, 'r', encoding='utf-8', errors='ignore') as f :\n",
    "            mail = f.read()\n",
    "            mails.append(mail)\n",
    "    return mails\n",
    "\n",
    "mails = get_mails('TRAIN', 'TRAIN')\n",
    "\n",
    "# Compute TF-IDF features\n",
    "tfidf_vectorizer = TfidfVectorizer(stop_words='english', strip_accents='ascii')\n",
    "tfidf_vectorizer.fit(mails) # tfidf_vectorizer remembers the term frequencies and vocabulary that was used to fit it.\n",
    "X = tfidf_vectorizer.transform(mails)\n",
    "print(type(X))"
   ]
  },
  {
   "cell_type": "code",
   "execution_count": 4,
   "metadata": {
    "collapsed": true
   },
   "outputs": [],
   "source": [
    "#print X"
   ]
  },
  {
   "cell_type": "code",
   "execution_count": 20,
   "metadata": {
    "collapsed": true
   },
   "outputs": [],
   "source": [
    "# Divise dataset\n",
    "def divide_dataset(X, y) :\n",
    "    from sklearn.model_selection import train_test_split\n",
    "    X_train, X_test, y_train, y_test = train_test_split(X.toarray(), y, test_size=0.33, random_state=42)\n",
    "    return (X_train, X_test, y_train, y_test)\n",
    "\n",
    "X_train, X_test, y_train, y_test = divide_dataset(X, y)"
   ]
  },
  {
   "cell_type": "markdown",
   "metadata": {},
   "source": [
    "## Machine Learning"
   ]
  },
  {
   "cell_type": "markdown",
   "metadata": {},
   "source": [
    "### Tools"
   ]
  },
  {
   "cell_type": "code",
   "execution_count": 6,
   "metadata": {
    "collapsed": true
   },
   "outputs": [],
   "source": [
    "# Inspired from : http://scikit-learn.org/stable/auto_examples/model_selection/plot_confusion_matrix.html\n",
    "import numpy as np\n",
    "from sklearn.metrics import confusion_matrix\n",
    "import itertools\n",
    "import matplotlib.pyplot as plt\n",
    "%matplotlib inline\n",
    "\n",
    "def plot_confusion_matrix(cm, classes,\n",
    "                          normalize=False,\n",
    "                          title='Confusion matrix',\n",
    "                          cmap=plt.cm.Blues):\n",
    "    #plt.figure()\n",
    "    \"\"\"\n",
    "    This function prints and plots the confusion matrix.\n",
    "    Normalization can be applied by setting `normalize=True`.\n",
    "    \"\"\"\n",
    "    if normalize:\n",
    "        cm = cm.astype('float') / cm.sum(axis=1)[:, np.newaxis]\n",
    "        print(\"Normalized confusion matrix\")\n",
    "    else:\n",
    "        print('Confusion matrix, without normalization')\n",
    "\n",
    "    #print(cm)\n",
    "\n",
    "    plt.imshow(cm, interpolation='nearest', cmap=cmap)\n",
    "    plt.title(title)\n",
    "    plt.colorbar()\n",
    "    tick_marks = np.arange(len(classes))\n",
    "    plt.xticks(tick_marks, classes, rotation=45)\n",
    "    plt.yticks(tick_marks, classes)\n",
    "\n",
    "    fmt = '.2f' if normalize else 'd'\n",
    "    thresh = cm.max() / 2.\n",
    "    for i, j in itertools.product(range(cm.shape[0]), range(cm.shape[1])):\n",
    "        plt.text(j, i, format(cm[i, j], fmt),\n",
    "                 horizontalalignment=\"center\",\n",
    "                 color=\"white\" if cm[i, j] > thresh else \"black\")\n",
    "\n",
    "    plt.tight_layout()\n",
    "    plt.ylabel('True label')\n",
    "    plt.xlabel('Predicted label')\n",
    "    plt.show()\n",
    "    \n"
   ]
  },
  {
   "cell_type": "code",
   "execution_count": 7,
   "metadata": {},
   "outputs": [
    {
     "name": "stdout",
     "output_type": "stream",
     "text": [
      "[2 3] [0 1]\n",
      "[0 1] [2 3]\n"
     ]
    }
   ],
   "source": [
    "def k_fold_validation_test() :\n",
    "    import numpy as np\n",
    "    from sklearn.model_selection import KFold\n",
    "\n",
    "    X = [\"a\", \"b\", \"c\", \"d\"]\n",
    "    kf = KFold(n_splits=2)\n",
    "    for train, test in kf.split(X):\n",
    "        print(\"%s %s\" % (train, test))\n",
    "k_fold_validation_test() \n",
    "    "
   ]
  },
  {
   "cell_type": "code",
   "execution_count": 8,
   "metadata": {},
   "outputs": [
    {
     "name": "stdout",
     "output_type": "stream",
     "text": [
      "[2 3] [0 1]\n",
      "[0 1] [2 3]\n",
      "[0 2] [1 3]\n",
      "[1 3] [0 2]\n"
     ]
    }
   ],
   "source": [
    "def repeated_k_fold_validation_test() :\n",
    "    import numpy as np\n",
    "    from sklearn.model_selection import RepeatedKFold\n",
    "    X = np.array([[1, 2], [3, 4], [1, 2], [3, 4]])\n",
    "    random_state = 12883823\n",
    "    rkf = RepeatedKFold(n_splits=2, n_repeats=2, random_state=random_state)\n",
    "    for train, test in rkf.split(X):\n",
    "        print(\"%s %s\" % (train, test))\n",
    "repeated_k_fold_validation_test()"
   ]
  },
  {
   "cell_type": "markdown",
   "metadata": {},
   "source": [
    "### Supervised - Decision tree"
   ]
  },
  {
   "cell_type": "code",
   "execution_count": 9,
   "metadata": {
    "collapsed": true
   },
   "outputs": [],
   "source": [
    "# Train model\n",
    "from sklearn import tree\n",
    "def decision_tree(max_depth) :\n",
    "    print \"Training Decision Tree model...\"\n",
    "    from sklearn import tree\n",
    "\n",
    "    clf = tree.DecisionTreeClassifier(criterion='entropy', max_depth=max_depth) # classifier = learning algorithm that will learn from the training dataset\n",
    "    model = clf.fit(X_train, y_train) # finds patterns in training data and create a set of rules (the model)\n",
    "    print \"Model trained!\"\n",
    "\n",
    "    training_error = 1-clf.score(X_train, y_train)\n",
    "    test_error = 1-clf.score(X_test, y_test)\n",
    "    print \"Training error : \" + str(training_error)\n",
    "    print \"Test error : \" + str(test_error)\n",
    "    return model"
   ]
  },
  {
   "cell_type": "code",
   "execution_count": 10,
   "metadata": {},
   "outputs": [
    {
     "name": "stdout",
     "output_type": "stream",
     "text": [
      "Training Decision Tree model...\n",
      "Model trained!\n",
      "Training error : 0.162985074627\n",
      "Test error : 0.153939393939\n"
     ]
    }
   ],
   "source": [
    "model = decision_tree(max_depth=1)\n",
    "y_pred = model.predict(X_test)"
   ]
  },
  {
   "cell_type": "code",
   "execution_count": 11,
   "metadata": {},
   "outputs": [
    {
     "name": "stdout",
     "output_type": "stream",
     "text": [
      "Training Decision Tree model...\n",
      "Model trained!\n",
      "Training error : 0.0507462686567\n",
      "Test error : 0.0593939393939\n"
     ]
    }
   ],
   "source": [
    "model = decision_tree(max_depth=7)\n",
    "y_pred = model.predict(X_test)"
   ]
  },
  {
   "cell_type": "code",
   "execution_count": 11,
   "metadata": {},
   "outputs": [
    {
     "name": "stdout",
     "output_type": "stream",
     "text": [
      "Confusion matrix, without normalization\n"
     ]
    },
    {
     "data": {
      "image/png": "[encoded data removed]",
      "text/plain": [
       "<matplotlib.figure.Figure at 0x104249910>"
      ]
     },
     "metadata": {},
     "output_type": "display_data"
    }
   ],
   "source": [
    "# Compute confusion matrix\n",
    "cnf_matrix = confusion_matrix(y_test, y_pred)\n",
    "plot_confusion_matrix(cnf_matrix, classes=class_names, title='Confusion matrix')"
   ]
  },
  {
   "cell_type": "markdown",
   "metadata": {},
   "source": [
    "### Supervised - SVM"
   ]
  },
  {
   "cell_type": "code",
   "execution_count": 35,
   "metadata": {},
   "outputs": [
    {
     "name": "stdout",
     "output_type": "stream",
     "text": [
      "Training SVM Model...\n",
      "Model trained!\n",
      "Training error : 0.314626865672\n",
      "Test error : 0.305454545455\n"
     ]
    }
   ],
   "source": [
    "print \"Training SVM Model...\"\n",
    "from sklearn import svm\n",
    "clf = svm.SVC()\n",
    "clf.fit(X_train, y_train)\n",
    "print \"Model trained!\"\n",
    "\n",
    "training_error = 1-clf.score(X_train, y_train)\n",
    "test_error = 1-clf.score(X_test, y_test)\n",
    "print \"Training error : \" + str(training_error)\n",
    "print \"Test error : \" + str(test_error)\n"
   ]
  },
  {
   "cell_type": "markdown",
   "metadata": {},
   "source": [
    "# Prediction"
   ]
  },
  {
   "cell_type": "code",
   "execution_count": 36,
   "metadata": {
    "collapsed": true
   },
   "outputs": [],
   "source": [
    "#%run ExtractContent.py TT/ TEST/"
   ]
  },
  {
   "cell_type": "markdown",
   "metadata": {},
   "source": [
    "## For Train/test split"
   ]
  },
  {
   "cell_type": "code",
   "execution_count": 41,
   "metadata": {
    "collapsed": true
   },
   "outputs": [],
   "source": [
    "mails = get_mails('TEST', 'TEST')\n",
    "X_test = tfidf_vectorizer.transform(mails)\n",
    "\n",
    "# Train again the classifier on the whole datasets (X, y) including testing datasets\n",
    "# with the best hyper parameters\n",
    "best_max_depth = 7\n",
    "model = tree.DecisionTreeClassifier(criterion='entropy', max_depth=best_max_depth) # classifier = learning algorithm that will learn from the training dataset\n",
    "model.fit(X, y)\n",
    "\n",
    "# Now predict new mails from the TEST dataset (non-labeled)\n",
    "y_pred = model.predict(X_test)"
   ]
  },
  {
   "cell_type": "code",
   "execution_count": null,
   "metadata": {
    "collapsed": true
   },
   "outputs": [],
   "source": []
  },
  {
   "cell_type": "code",
   "execution_count": 42,
   "metadata": {
    "collapsed": true
   },
   "outputs": [],
   "source": [
    "# Store predicted labels\n",
    "fd = open('spam-mail.tt.label', 'w')\n",
    "fd.write('Id,Prediction')\n",
    "\n",
    "for i in range(0, len(y_pred)):\n",
    "    fd.write('\\n%d,%s' % (i+1, y_pred[i]))\n",
    "\n",
    "fd.close()\n"
   ]
  },
  {
   "cell_type": "markdown",
   "metadata": {},
   "source": [
    "## Decision Tree"
   ]
  },
  {
   "cell_type": "code",
   "execution_count": 26,
   "metadata": {},
   "outputs": [
    {
     "data": {
      "text/plain": [
       "GridSearchCV(cv=10, error_score='raise',\n",
       "       estimator=DecisionTreeClassifier(class_weight=None, criterion='entropy', max_depth=None,\n",
       "            max_features=None, max_leaf_nodes=None,\n",
       "            min_impurity_decrease=0.0, min_impurity_split=None,\n",
       "            min_samples_leaf=1, min_samples_split=2,\n",
       "            min_weight_fraction_leaf=0.0, presort=False, random_state=None,\n",
       "            splitter='best'),\n",
       "       fit_params=None, iid=True, n_jobs=-1,\n",
       "       param_grid={'max_depth': [1, 2, 3, 4, 5, 6, 7, 8, 9, 10, 11, 12, 13, 14, 15, 16, 17, 18, 19, 20, 21, 22, 23, 24, 25, 26, 27, 28, 29, 30]},\n",
       "       pre_dispatch='2*n_jobs', refit=True, return_train_score=True,\n",
       "       scoring='accuracy', verbose=0)"
      ]
     },
     "execution_count": 26,
     "metadata": {},
     "output_type": "execute_result"
    }
   ],
   "source": [
    "from sklearn.model_selection import GridSearchCV\n",
    "d_range = list(range(1, 31)) # list of parameter values to test\n",
    "#s_range = list(range(2, 10))\n",
    "\n",
    "# create a parameter grid: map the parameter names to the values that should be searched\n",
    "param_grid = dict(max_depth=d_range)#, min_samples_split=s_range)\n",
    "\n",
    "dtc = tree.DecisionTreeClassifier(criterion='entropy')\n",
    "grid = GridSearchCV(dtc, param_grid, cv=10, scoring='accuracy', n_jobs=-1) # Do a 10-fold cross validation\n",
    "grid.fit(X, y) # fit the grid with data\n",
    "\n"
   ]
  },
  {
   "cell_type": "code",
   "execution_count": 28,
   "metadata": {},
   "outputs": [
    {
     "name": "stdout",
     "output_type": "stream",
     "text": [
      "[ 0.84    0.8516  0.8992  0.9284  0.9308  0.934   0.9344  0.9364  0.9388\n",
      "  0.9404  0.9556  0.9544  0.9544  0.956   0.9548  0.9568  0.9556  0.9584\n",
      "  0.9568  0.9532  0.9572  0.958   0.9544  0.9584  0.956   0.9568  0.956\n",
      "  0.9584  0.958   0.9584]\n"
     ]
    },
    {
     "data": {
      "text/plain": [
       "<matplotlib.text.Text at 0x10ab7fb90>"
      ]
     },
     "execution_count": 28,
     "metadata": {},
     "output_type": "execute_result"
    },
    {
     "data": {
      "image/png": "[encoded data removed]",
      "text/plain": [
       "<matplotlib.figure.Figure at 0x10b1df590>"
      ]
     },
     "metadata": {},
     "output_type": "display_data"
    }
   ],
   "source": [
    "grid_mean_scores = grid.cv_results_['mean_test_score']\n",
    "print(grid_mean_scores)\n",
    "\n",
    "# plot the results\n",
    "plt.plot(k_range, grid_mean_scores)\n",
    "plt.xlabel('Value of depth for Decision Tree')\n",
    "plt.ylabel('Cross-Validated Accuracy')"
   ]
  },
  {
   "cell_type": "code",
   "execution_count": null,
   "metadata": {
    "collapsed": true,
    "scrolled": false
   },
   "outputs": [],
   "source": [
    "# examine the best model\n",
    "print(grid.best_score_)\n",
    "print(grid.best_params_)\n",
    "#print(grid.best_estimator_)"
   ]
  },
  {
   "cell_type": "code",
   "execution_count": null,
   "metadata": {
    "collapsed": true
   },
   "outputs": [],
   "source": [
    "#k-NN, Naive Bayes, SVM, Perceptron"
   ]
  },
  {
   "cell_type": "markdown",
   "metadata": {
    "collapsed": true
   },
   "source": [
    "## k-NN classifier"
   ]
  },
  {
   "cell_type": "code",
   "execution_count": 15,
   "metadata": {},
   "outputs": [
    {
     "data": {
      "text/plain": [
       "GridSearchCV(cv=10, error_score='raise',\n",
       "       estimator=KNeighborsClassifier(algorithm='auto', leaf_size=30, metric='minkowski',\n",
       "           metric_params=None, n_jobs=1, n_neighbors=5, p=2,\n",
       "           weights='uniform'),\n",
       "       fit_params=None, iid=True, n_jobs=-1,\n",
       "       param_grid={'n_neighbors': [1, 2, 3, 4, 5, 6, 7, 8, 9, 10, 11, 12, 13, 14, 15, 16, 17, 18, 19, 20, 21, 22, 23, 24, 25, 26, 27, 28, 29, 30]},\n",
       "       pre_dispatch='2*n_jobs', refit=True, return_train_score=True,\n",
       "       scoring='accuracy', verbose=0)"
      ]
     },
     "execution_count": 15,
     "metadata": {},
     "output_type": "execute_result"
    }
   ],
   "source": [
    "from sklearn.model_selection import GridSearchCV\n",
    "from sklearn.neighbors import KNeighborsClassifier\n",
    "k_range = list(range(1, 31)) # list of parameter values to test\n",
    "param_grid = dict(n_neighbors=k_range)\n",
    "\n",
    "knn = KNeighborsClassifier(weights='uniform')\n",
    "grid = GridSearchCV(knn, param_grid, cv=10, scoring='accuracy', n_jobs=-1) # Do a 10-fold cross validation\n",
    "grid.fit(X, y) # fit the grid with data\n"
   ]
  },
  {
   "cell_type": "code",
   "execution_count": 17,
   "metadata": {},
   "outputs": [
    {
     "name": "stdout",
     "output_type": "stream",
     "text": [
      "0.9644\n",
      "{'n_neighbors': 1}\n"
     ]
    }
   ],
   "source": [
    "print(grid.best_score_)\n",
    "print(grid.best_params_)"
   ]
  },
  {
   "cell_type": "code",
   "execution_count": 16,
   "metadata": {},
   "outputs": [
    {
     "name": "stdout",
     "output_type": "stream",
     "text": [
      "{'rank_test_score': array([ 1,  3,  2,  5,  4,  6,  7, 28,  9, 18, 11, 11,  8, 11, 11, 11, 16,\n",
      "       16,  9, 23, 19, 20, 20, 23, 20, 26, 26, 29, 23, 30], dtype=int32), 'split6_test_score': array([ 0.968,  0.956,  0.952,  0.94 ,  0.932,  0.924,  0.92 ,  0.916,\n",
      "        0.924,  0.932,  0.92 ,  0.928,  0.924,  0.928,  0.928,  0.932,\n",
      "        0.932,  0.932,  0.928,  0.936,  0.932,  0.932,  0.928,  0.928,\n",
      "        0.928,  0.924,  0.924,  0.924,  0.928,  0.924]), 'param_n_neighbors': masked_array(data = [1 2 3 4 5 6 7 8 9 10 11 12 13 14 15 16 17 18 19 20 21 22 23 24 25 26 27 28\n",
      " 29 30],\n",
      "             mask = [False False False False False False False False False False False False\n",
      " False False False False False False False False False False False False\n",
      " False False False False False False],\n",
      "       fill_value = ?)\n",
      ", 'split7_train_score': array([ 1.        ,  0.98444444,  0.97555556,  0.96711111,  0.96444444,\n",
      "        0.956     ,  0.95288889,  0.948     ,  0.95466667,  0.95377778,\n",
      "        0.95422222,  0.94933333,  0.95155556,  0.948     ,  0.95111111,\n",
      "        0.94888889,  0.95022222,  0.94711111,  0.94977778,  0.944     ,\n",
      "        0.94577778,  0.944     ,  0.944     ,  0.94      ,  0.94044444,\n",
      "        0.93777778,  0.94      ,  0.93733333,  0.93911111,  0.93777778]), 'split0_train_score': array([ 1.        ,  0.98265896,  0.97554469,  0.96487328,  0.96531792,\n",
      "        0.95642508,  0.95509115,  0.94708759,  0.9524233 ,  0.95286794,\n",
      "        0.9524233 ,  0.95153402,  0.95064473,  0.94975545,  0.9493108 ,\n",
      "        0.94575367,  0.94708759,  0.94664295,  0.94664295,  0.94708759,\n",
      "        0.94575367,  0.94441974,  0.94264117,  0.93997332,  0.94219653,\n",
      "        0.93997332,  0.93952868,  0.93952868,  0.94175189,  0.93775011]), 'split2_test_score': array([ 0.984,  0.984,  0.98 ,  0.976,  0.976,  0.972,  0.976,  0.972,\n",
      "        0.972,  0.96 ,  0.976,  0.972,  0.972,  0.972,  0.972,  0.972,\n",
      "        0.972,  0.968,  0.972,  0.972,  0.972,  0.968,  0.968,  0.968,\n",
      "        0.968,  0.964,  0.964,  0.964,  0.964,  0.964]), 'mean_fit_time': array([ 0.02536938,  0.02577627,  0.02282808,  0.02110903,  0.02748265,\n",
      "        0.02592549,  0.02810466,  0.02301059,  0.02609942,  0.02141125,\n",
      "        0.02552271,  0.02941577,  0.02320588,  0.02303681,  0.0321949 ,\n",
      "        0.0228097 ,  0.025984  ,  0.03084137,  0.02808113,  0.02538307,\n",
      "        0.02386701,  0.02491159,  0.02264903,  0.02077024,  0.02092631,\n",
      "        0.02042191,  0.02172022,  0.02287319,  0.02282193,  0.02262025]), 'split3_train_score': array([ 1.        ,  0.984     ,  0.97777778,  0.96711111,  0.96711111,\n",
      "        0.95911111,  0.95644444,  0.952     ,  0.94888889,  0.94711111,\n",
      "        0.952     ,  0.95244444,  0.94622222,  0.94711111,  0.94666667,\n",
      "        0.948     ,  0.94666667,  0.94577778,  0.94488889,  0.94444444,\n",
      "        0.94222222,  0.94088889,  0.94177778,  0.94222222,  0.94311111,\n",
      "        0.94088889,  0.94311111,  0.94044444,  0.93955556,  0.93777778]), 'split6_train_score': array([ 1.        ,  0.98222222,  0.97555556,  0.96533333,  0.96533333,\n",
      "        0.95688889,  0.95733333,  0.95022222,  0.95511111,  0.95555556,\n",
      "        0.95288889,  0.95066667,  0.95022222,  0.95022222,  0.94933333,\n",
      "        0.94755556,  0.948     ,  0.94622222,  0.94533333,  0.94711111,\n",
      "        0.94622222,  0.94488889,  0.94533333,  0.944     ,  0.94488889,\n",
      "        0.944     ,  0.94666667,  0.94266667,  0.94311111,  0.94266667]), 'split9_test_score': array([ 0.95983936,  0.9437751 ,  0.9437751 ,  0.93975904,  0.9437751 ,\n",
      "        0.9437751 ,  0.93574297,  0.93574297,  0.93574297,  0.93172691,\n",
      "        0.93574297,  0.93574297,  0.93975904,  0.93975904,  0.93574297,\n",
      "        0.93172691,  0.92771084,  0.93172691,  0.93574297,  0.93574297,\n",
      "        0.93574297,  0.93172691,  0.93172691,  0.93172691,  0.93574297,\n",
      "        0.93574297,  0.93574297,  0.93172691,  0.93172691,  0.93172691]), 'std_test_score': array([ 0.0093576 ,  0.01583872,  0.01263239,  0.01494338,  0.01635892,\n",
      "        0.01703143,  0.0172219 ,  0.01540569,  0.01317512,  0.00947607,\n",
      "        0.0179453 ,  0.01645703,  0.01642317,  0.01681885,  0.0160549 ,\n",
      "        0.01605257,  0.01672333,  0.01533642,  0.01560365,  0.01514575,\n",
      "        0.01617899,  0.0140743 ,  0.01429986,  0.01556058,  0.01535294,\n",
      "        0.01479844,  0.01403051,  0.01383717,  0.01288859,  0.01640597]), 'params': [{'n_neighbors': 1}, {'n_neighbors': 2}, {'n_neighbors': 3}, {'n_neighbors': 4}, {'n_neighbors': 5}, {'n_neighbors': 6}, {'n_neighbors': 7}, {'n_neighbors': 8}, {'n_neighbors': 9}, {'n_neighbors': 10}, {'n_neighbors': 11}, {'n_neighbors': 12}, {'n_neighbors': 13}, {'n_neighbors': 14}, {'n_neighbors': 15}, {'n_neighbors': 16}, {'n_neighbors': 17}, {'n_neighbors': 18}, {'n_neighbors': 19}, {'n_neighbors': 20}, {'n_neighbors': 21}, {'n_neighbors': 22}, {'n_neighbors': 23}, {'n_neighbors': 24}, {'n_neighbors': 25}, {'n_neighbors': 26}, {'n_neighbors': 27}, {'n_neighbors': 28}, {'n_neighbors': 29}, {'n_neighbors': 30}], 'std_fit_time': array([ 0.00697421,  0.00976414,  0.00540553,  0.00537526,  0.0142858 ,\n",
      "        0.00620979,  0.00501558,  0.0052356 ,  0.00697015,  0.00369545,\n",
      "        0.00754062,  0.00726873,  0.00472462,  0.00682576,  0.00884197,\n",
      "        0.00764612,  0.00830234,  0.0094333 ,  0.00625706,  0.00553168,\n",
      "        0.00463233,  0.00343536,  0.00349631,  0.00794353,  0.00383067,\n",
      "        0.00452639,  0.00458129,  0.00375397,  0.00491809,  0.00465587]), 'std_score_time': array([ 0.03165627,  0.03090138,  0.01998604,  0.01151839,  0.02159444,\n",
      "        0.02174397,  0.009316  ,  0.01312277,  0.05785462,  0.0113293 ,\n",
      "        0.01262731,  0.01345823,  0.01710659,  0.03038693,  0.01770193,\n",
      "        0.02577569,  0.01596987,  0.01207673,  0.01176103,  0.01275433,\n",
      "        0.02557268,  0.008102  ,  0.00908117,  0.02743739,  0.01001589,\n",
      "        0.00670609,  0.00877473,  0.00685118,  0.00930833,  0.0136171 ]), 'split8_test_score': array([ 0.96 ,  0.936,  0.956,  0.952,  0.956,  0.956,  0.952,  0.944,\n",
      "        0.948,  0.932,  0.952,  0.952,  0.952,  0.948,  0.948,  0.948,\n",
      "        0.948,  0.952,  0.952,  0.944,  0.948,  0.948,  0.948,  0.952,\n",
      "        0.952,  0.952,  0.952,  0.948,  0.952,  0.948]), 'std_train_score': array([ 0.        ,  0.0009065 ,  0.0011204 ,  0.0017025 ,  0.00161517,\n",
      "        0.0017592 ,  0.00225599,  0.00343411,  0.00495142,  0.00561556,\n",
      "        0.00201481,  0.00240282,  0.00264215,  0.0023256 ,  0.00285556,\n",
      "        0.00330271,  0.00309388,  0.00205258,  0.00208751,  0.00210018,\n",
      "        0.00170469,  0.00192534,  0.00179415,  0.00176383,  0.00165845,\n",
      "        0.00206834,  0.00244897,  0.00206597,  0.00237413,  0.002159  ]), 'split4_test_score': array([ 0.956,  0.948,  0.956,  0.952,  0.956,  0.952,  0.956,  0.936,\n",
      "        0.944,  0.94 ,  0.952,  0.952,  0.952,  0.952,  0.952,  0.948,\n",
      "        0.952,  0.952,  0.952,  0.948,  0.952,  0.948,  0.948,  0.948,\n",
      "        0.944,  0.948,  0.944,  0.94 ,  0.944,  0.936]), 'split1_train_score': array([ 1.        ,  0.98222222,  0.97688889,  0.96577778,  0.96622222,\n",
      "        0.95822222,  0.95955556,  0.95555556,  0.956     ,  0.95555556,\n",
      "        0.95333333,  0.95066667,  0.952     ,  0.95066667,  0.95111111,\n",
      "        0.95111111,  0.94977778,  0.948     ,  0.94755556,  0.94711111,\n",
      "        0.94711111,  0.94533333,  0.94444444,  0.94444444,  0.94266667,\n",
      "        0.94311111,  0.94311111,  0.94355556,  0.94311111,  0.94044444]), 'split2_train_score': array([ 1.        ,  0.98355556,  0.97644444,  0.96266667,  0.96088889,\n",
      "        0.95511111,  0.95244444,  0.94177778,  0.94133333,  0.93955556,\n",
      "        0.94755556,  0.94444444,  0.94355556,  0.94311111,  0.94133333,\n",
      "        0.93955556,  0.94      ,  0.94177778,  0.94266667,  0.94088889,\n",
      "        0.94355556,  0.94133333,  0.94133333,  0.94044444,  0.94      ,\n",
      "        0.93822222,  0.93866667,  0.93822222,  0.93822222,  0.93688889]), 'split4_train_score': array([ 1.        ,  0.98488889,  0.97822222,  0.96488889,  0.96488889,\n",
      "        0.95733333,  0.95644444,  0.94666667,  0.94666667,  0.944     ,\n",
      "        0.94844444,  0.94711111,  0.94711111,  0.94666667,  0.94666667,\n",
      "        0.94444444,  0.94355556,  0.94355556,  0.94355556,  0.94222222,\n",
      "        0.944     ,  0.94177778,  0.944     ,  0.94177778,  0.94133333,\n",
      "        0.94044444,  0.94177778,  0.94044444,  0.94088889,  0.94044444]), 'mean_score_time': array([ 0.11028764,  0.10771182,  0.1029268 ,  0.10107949,  0.11400957,\n",
      "        0.10662823,  0.10854523,  0.11051571,  0.14022508,  0.10471258,\n",
      "        0.11035564,  0.10918691,  0.11128485,  0.13779066,  0.12756612,\n",
      "        0.11973481,  0.11833575,  0.12398591,  0.11330626,  0.11673498,\n",
      "        0.1178833 ,  0.10570557,  0.10811381,  0.12655091,  0.10852187,\n",
      "        0.1096318 ,  0.1069521 ,  0.10582037,  0.11426997,  0.10551918]), 'split9_train_score': array([ 1.        ,  0.98267437,  0.97512217,  0.96712572,  0.96579298,\n",
      "        0.95957352,  0.95912928,  0.94980009,  0.95646379,  0.95468681,\n",
      "        0.95202132,  0.95246557,  0.94980009,  0.94713461,  0.94891159,\n",
      "        0.94624611,  0.94580187,  0.94535762,  0.94713461,  0.94580187,\n",
      "        0.94669036,  0.94269214,  0.94491337,  0.94224789,  0.94358063,\n",
      "        0.94180364,  0.94224789,  0.9413594 ,  0.94358063,  0.94180364]), 'split5_test_score': array([ 0.968,  0.968,  0.964,  0.96 ,  0.956,  0.956,  0.944,  0.948,\n",
      "        0.944,  0.948,  0.956,  0.956,  0.952,  0.948,  0.948,  0.948,\n",
      "        0.944,  0.944,  0.944,  0.936,  0.936,  0.936,  0.94 ,  0.94 ,\n",
      "        0.94 ,  0.94 ,  0.94 ,  0.936,  0.936,  0.936]), 'mean_train_score': array([ 1.        ,  0.98346667,  0.97653335,  0.96551101,  0.96488887,\n",
      "        0.95675542,  0.95595538,  0.94871099,  0.95048871,  0.94919992,\n",
      "        0.95146668,  0.9496444 ,  0.94853337,  0.94728901,  0.94760002,\n",
      "        0.94564442,  0.94573339,  0.94497783,  0.94555553,  0.94453339,\n",
      "        0.94493329,  0.94253341,  0.94293323,  0.94137768,  0.94182216,\n",
      "        0.94031103,  0.94128877,  0.93991103,  0.94039992,  0.93906649]), 'split8_train_score': array([ 1.        ,  0.984     ,  0.976     ,  0.96755556,  0.96533333,\n",
      "        0.95377778,  0.95422222,  0.94755556,  0.94488889,  0.944     ,\n",
      "        0.95022222,  0.948     ,  0.94577778,  0.94488889,  0.94666667,\n",
      "        0.94266667,  0.94311111,  0.94311111,  0.94444444,  0.94266667,\n",
      "        0.94222222,  0.93955556,  0.93955556,  0.93955556,  0.93955556,\n",
      "        0.93777778,  0.93866667,  0.93733333,  0.936     ,  0.93555556]), 'split7_test_score': array([ 0.964,  0.956,  0.944,  0.928,  0.94 ,  0.94 ,  0.944,  0.924,\n",
      "        0.932,  0.936,  0.928,  0.928,  0.932,  0.932,  0.928,  0.928,\n",
      "        0.924,  0.924,  0.924,  0.924,  0.92 ,  0.928,  0.924,  0.924,\n",
      "        0.928,  0.924,  0.92 ,  0.92 ,  0.924,  0.928]), 'split0_test_score': array([ 0.95219124,  0.94023904,  0.93227092,  0.92430279,  0.9123506 ,\n",
      "        0.92031873,  0.91633466,  0.92031873,  0.92430279,  0.92430279,\n",
      "        0.91633466,  0.91633466,  0.9123506 ,  0.90836653,  0.9123506 ,\n",
      "        0.90836653,  0.90836653,  0.91633466,  0.91633466,  0.91633466,\n",
      "        0.9123506 ,  0.91633466,  0.91633466,  0.9123506 ,  0.90836653,\n",
      "        0.91633466,  0.92031873,  0.92031873,  0.92430279,  0.92430279]), 'mean_test_score': array([ 0.9644,  0.9524,  0.9532,  0.9452,  0.9456,  0.9428,  0.9412,\n",
      "        0.9364,  0.9404,  0.9384,  0.94  ,  0.94  ,  0.9408,  0.94  ,\n",
      "        0.94  ,  0.94  ,  0.9392,  0.9392,  0.9404,  0.9372,  0.938 ,\n",
      "        0.9376,  0.9376,  0.9372,  0.9376,  0.9368,  0.9368,  0.9348,\n",
      "        0.9372,  0.934 ]), 'split3_test_score': array([ 0.976,  0.964,  0.96 ,  0.948,  0.948,  0.948,  0.944,  0.94 ,\n",
      "        0.944,  0.94 ,  0.94 ,  0.936,  0.944,  0.948,  0.948,  0.948,\n",
      "        0.948,  0.948,  0.948,  0.94 ,  0.944,  0.944,  0.944,  0.944,\n",
      "        0.944,  0.944,  0.944,  0.944,  0.944,  0.948]), 'split5_train_score': array([ 1.        ,  0.984     ,  0.97822222,  0.96266667,  0.96355556,\n",
      "        0.95511111,  0.956     ,  0.94844444,  0.94844444,  0.94488889,\n",
      "        0.95155556,  0.94977778,  0.94844444,  0.94533333,  0.94488889,\n",
      "        0.94222222,  0.94311111,  0.94222222,  0.94355556,  0.944     ,\n",
      "        0.94577778,  0.94044444,  0.94133333,  0.93911111,  0.94044444,\n",
      "        0.93911111,  0.93911111,  0.93822222,  0.93866667,  0.93955556]), 'split1_test_score': array([ 0.956,  0.928,  0.944,  0.932,  0.936,  0.916,  0.924,  0.928,\n",
      "        0.936,  0.94 ,  0.924,  0.924,  0.928,  0.924,  0.928,  0.936,\n",
      "        0.936,  0.924,  0.932,  0.92 ,  0.928,  0.924,  0.928,  0.924,\n",
      "        0.928,  0.92 ,  0.924,  0.92 ,  0.924,  0.9  ])}\n"
     ]
    }
   ],
   "source": [
    "print(grid.cv_results_)"
   ]
  },
  {
   "cell_type": "code",
   "execution_count": 21,
   "metadata": {},
   "outputs": [
    {
     "name": "stdout",
     "output_type": "stream",
     "text": [
      "[ 0.9644  0.9524  0.9532  0.9452  0.9456  0.9428  0.9412  0.9364  0.9404\n",
      "  0.9384  0.94    0.94    0.9408  0.94    0.94    0.94    0.9392  0.9392\n",
      "  0.9404  0.9372  0.938   0.9376  0.9376  0.9372  0.9376  0.9368  0.9368\n",
      "  0.9348  0.9372  0.934 ]\n"
     ]
    }
   ],
   "source": [
    "grid_mean_scores = grid.cv_results_['mean_test_score']\n",
    "print(grid_mean_scores)"
   ]
  },
  {
   "cell_type": "code",
   "execution_count": 24,
   "metadata": {},
   "outputs": [
    {
     "data": {
      "text/plain": [
       "<matplotlib.text.Text at 0x10a221290>"
      ]
     },
     "execution_count": 24,
     "metadata": {},
     "output_type": "execute_result"
    },
    {
     "data": {
      "image/png": "[encoded data removed]",
      "text/plain": [
       "<matplotlib.figure.Figure at 0x10a234490>"
      ]
     },
     "metadata": {},
     "output_type": "display_data"
    }
   ],
   "source": [
    "# plot the results\n",
    "plt.plot(k_range, grid_mean_scores)\n",
    "plt.xlabel('Value of K for KNN')\n",
    "plt.ylabel('Cross-Validated Accuracy')"
   ]
  },
  {
   "cell_type": "markdown",
   "metadata": {},
   "source": [
    "## SVM - Support Vector Machine"
   ]
  },
  {
   "cell_type": "code",
   "execution_count": null,
   "metadata": {
    "collapsed": true
   },
   "outputs": [],
   "source": [
    "\n",
    "from sklearn.model_selection import GridSearchCV\n",
    "from sklearn import svm\n",
    "C_range = np.logspace(-2, 10, 13)\n",
    "gamma_range = np.logspace(-9, 3, 13)\n",
    "param_grid = dict(gamma=gamma_range, C=C_range)\n",
    "\n",
    "svm = svm.SVC()\n",
    "grid = GridSearchCV(svm, param_grid, cv=10, scoring='accuracy', n_jobs=2) # Do a 10-fold cross validation\n",
    "grid.fit(X, y) # fit the grid with data\n"
   ]
  },
  {
   "cell_type": "code",
   "execution_count": null,
   "metadata": {
    "collapsed": true
   },
   "outputs": [],
   "source": [
    "grid_mean_scores = grid.cv_results_['mean_test_score']\n",
    "plt.plot(k_range, grid_mean_scores)\n",
    "plt.xlabel('Value of K for KNN')\n",
    "plt.ylabel('Cross-Validated Accuracy')"
   ]
  },
  {
   "cell_type": "markdown",
   "metadata": {},
   "source": [
    "### Naive Bayes"
   ]
  },
  {
   "cell_type": "code",
   "execution_count": 23,
   "metadata": {},
   "outputs": [
    {
     "name": "stdout",
     "output_type": "stream",
     "text": [
      "Training error : 1.0\n",
      "Test error : 0.922424242424\n"
     ]
    }
   ],
   "source": [
    "from sklearn.naive_bayes import GaussianNB\n",
    "\n",
    "gnb = GaussianNB()\n",
    "gnb.fit(X_train, y_train)\n",
    "\n",
    "training_error = gnb.score(X_train, y_train)\n",
    "test_error = gnb.score(X_test, y_test)\n",
    "\n",
    "print \"Training error : \" + str(training_error)\n",
    "print \"Test error : \" + str(test_error)\n"
   ]
  },
  {
   "cell_type": "code",
   "execution_count": 25,
   "metadata": {},
   "outputs": [
    {
     "name": "stdout",
     "output_type": "stream",
     "text": [
      "Training error : 0.911044776119\n",
      "Test error : 0.883636363636\n"
     ]
    }
   ],
   "source": [
    "from sklearn.naive_bayes import MultinomialNB\n",
    "\n",
    "gnb = MultinomialNB()\n",
    "gnb.fit(X_train, y_train)\n",
    "\n",
    "training_error = gnb.score(X_train, y_train)\n",
    "test_error = gnb.score(X_test, y_test)\n",
    "\n",
    "print \"Training error : \" + str(training_error)\n",
    "print \"Test error : \" + str(test_error)\n",
    "\n"
   ]
  },
  {
   "cell_type": "code",
   "execution_count": 26,
   "metadata": {},
   "outputs": [
    {
     "name": "stdout",
     "output_type": "stream",
     "text": [
      "Training error : 0.839402985075\n",
      "Test error : 0.825454545455\n"
     ]
    }
   ],
   "source": [
    "from sklearn.naive_bayes import BernoulliNB\n",
    "\n",
    "gnb = BernoulliNB()\n",
    "gnb.fit(X_train, y_train)\n",
    "\n",
    "training_error = gnb.score(X_train, y_train)\n",
    "test_error = gnb.score(X_test, y_test)\n",
    "\n",
    "print \"Training error : \" + str(training_error)\n",
    "print \"Test error : \" + str(test_error)"
   ]
  },
  {
   "cell_type": "code",
   "execution_count": null,
   "metadata": {
    "collapsed": true
   },
   "outputs": [],
   "source": []
  }
 ],
 "metadata": {
  "kernelspec": {
   "display_name": "Python 2",
   "language": "python",
   "name": "python2"
  },
  "language_info": {
   "codemirror_mode": {
    "name": "ipython",
    "version": 2
   },
   "file_extension": ".py",
   "mimetype": "text/x-python",
   "name": "python",
   "nbconvert_exporter": "python",
   "pygments_lexer": "ipython2",
   "version": "2.7.13"
  }
 },
 "nbformat": 4,
 "nbformat_minor": 2
}
