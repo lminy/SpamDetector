{
 "cells": [
  {
   "cell_type": "markdown",
   "metadata": {},
   "source": [
    "# SpamDetector"
   ]
  },
  {
   "cell_type": "markdown",
   "metadata": {
    "collapsed": true
   },
   "source": [
    "## Preprocessing"
   ]
  },
  {
   "cell_type": "code",
   "execution_count": 24,
   "metadata": {
    "collapsed": true
   },
   "outputs": [],
   "source": [
    "#%run ExtractContent.py TR/ TRAIN/"
   ]
  },
  {
   "cell_type": "code",
   "execution_count": 25,
   "metadata": {
    "collapsed": true
   },
   "outputs": [],
   "source": [
    "# Get labels\n",
    "import string\n",
    "import csv\n",
    "y = list() # y = labels\n",
    "with open('spam-mail.tr.label','rb') as f :\n",
    "    labels_reader = csv.reader(f, delimiter=',')\n",
    "    count_row = 0\n",
    "\n",
    "    for row in labels_reader:\n",
    "        if count_row != 0 :\n",
    "            y.append(row[1])\n",
    "        count_row = count_row + 1\n",
    "        \n",
    "class_names = ['Spam', 'Ham']\n",
    "#print y"
   ]
  },
  {
   "cell_type": "code",
   "execution_count": 26,
   "metadata": {},
   "outputs": [],
   "source": [
    "from sklearn.feature_extraction.text import TfidfVectorizer\n",
    "\n",
    "# Get mails\n",
    "def get_mails(folder_name, prefix) :\n",
    "    from sklearn.feature_extraction.text import TfidfVectorizer\n",
    "    import codecs\n",
    "\n",
    "    from os import listdir\n",
    "    from os.path import isfile, join\n",
    "    files = [f for f in listdir(folder_name) if isfile(join(folder_name, f)) and f.endswith('.eml')]\n",
    "    \n",
    "    mails = list()\n",
    "    for i in range(1, len(files) + 1) :\n",
    "        path = folder_name + '/' + prefix + '_%s.eml'%i\n",
    "        with codecs.open(path, 'r', encoding='utf-8', errors='ignore') as f :\n",
    "            mail = f.read()\n",
    "            mails.append(mail)\n",
    "    return mails\n",
    "\n",
    "mails = get_mails('TRAIN', 'TRAIN')\n",
    "\n",
    "# Compute TF-IDF features\n",
    "tfidf_vectorizer = TfidfVectorizer(stop_words='english', strip_accents='ascii')\n",
    "tfidf_vectorizer.fit(mails) # tfidf_vectorizer remembers the term frequencies and vocabulary that was used to fit it.\n",
    "X = tfidf_vectorizer.transform(mails)"
   ]
  },
  {
   "cell_type": "code",
   "execution_count": 27,
   "metadata": {
    "collapsed": true
   },
   "outputs": [],
   "source": [
    "# Divise dataset\n",
    "def divide_dataset(X, y) :\n",
    "    from sklearn.model_selection import train_test_split\n",
    "    X_train, X_test, y_train, y_test = train_test_split(X, y, test_size=0.33, random_state=42)\n",
    "    return (X_train, X_test, y_train, y_test)\n",
    "\n",
    "X_train, X_test, y_train, y_test = divide_dataset(X, y)"
   ]
  },
  {
   "cell_type": "markdown",
   "metadata": {},
   "source": [
    "## Machine Learning"
   ]
  },
  {
   "cell_type": "markdown",
   "metadata": {},
   "source": [
    "### Tools"
   ]
  },
  {
   "cell_type": "code",
   "execution_count": 28,
   "metadata": {
    "collapsed": true
   },
   "outputs": [],
   "source": [
    "# Inspired from : http://scikit-learn.org/stable/auto_examples/model_selection/plot_confusion_matrix.html\n",
    "import numpy as np\n",
    "import matplotlib.pyplot as plt\n",
    "from sklearn.metrics import confusion_matrix\n",
    "import itertools\n",
    "\n",
    "def plot_confusion_matrix(cm, classes,\n",
    "                          normalize=False,\n",
    "                          title='Confusion matrix',\n",
    "                          cmap=plt.cm.Blues):\n",
    "    #plt.figure()\n",
    "    \"\"\"\n",
    "    This function prints and plots the confusion matrix.\n",
    "    Normalization can be applied by setting `normalize=True`.\n",
    "    \"\"\"\n",
    "    if normalize:\n",
    "        cm = cm.astype('float') / cm.sum(axis=1)[:, np.newaxis]\n",
    "        print(\"Normalized confusion matrix\")\n",
    "    else:\n",
    "        print('Confusion matrix, without normalization')\n",
    "\n",
    "    #print(cm)\n",
    "\n",
    "    plt.imshow(cm, interpolation='nearest', cmap=cmap)\n",
    "    plt.title(title)\n",
    "    plt.colorbar()\n",
    "    tick_marks = np.arange(len(classes))\n",
    "    plt.xticks(tick_marks, classes, rotation=45)\n",
    "    plt.yticks(tick_marks, classes)\n",
    "\n",
    "    fmt = '.2f' if normalize else 'd'\n",
    "    thresh = cm.max() / 2.\n",
    "    for i, j in itertools.product(range(cm.shape[0]), range(cm.shape[1])):\n",
    "        plt.text(j, i, format(cm[i, j], fmt),\n",
    "                 horizontalalignment=\"center\",\n",
    "                 color=\"white\" if cm[i, j] > thresh else \"black\")\n",
    "\n",
    "    plt.tight_layout()\n",
    "    plt.ylabel('True label')\n",
    "    plt.xlabel('Predicted label')\n",
    "    plt.show()\n",
    "    \n"
   ]
  },
  {
   "cell_type": "code",
   "execution_count": 29,
   "metadata": {},
   "outputs": [
    {
     "name": "stdout",
     "output_type": "stream",
     "text": [
      "[2 3] [0 1]\n",
      "[0 1] [2 3]\n"
     ]
    }
   ],
   "source": [
    "def k_fold_validation_test() :\n",
    "    import numpy as np\n",
    "    from sklearn.model_selection import KFold\n",
    "\n",
    "    X = [\"a\", \"b\", \"c\", \"d\"]\n",
    "    kf = KFold(n_splits=2)\n",
    "    for train, test in kf.split(X):\n",
    "        print(\"%s %s\" % (train, test))\n",
    "k_fold_validation_test() \n",
    "    "
   ]
  },
  {
   "cell_type": "code",
   "execution_count": 30,
   "metadata": {},
   "outputs": [
    {
     "name": "stdout",
     "output_type": "stream",
     "text": [
      "[2 3] [0 1]\n",
      "[0 1] [2 3]\n",
      "[0 2] [1 3]\n",
      "[1 3] [0 2]\n"
     ]
    }
   ],
   "source": [
    "def repeated_k_fold_validation_test() :\n",
    "    import numpy as np\n",
    "    from sklearn.model_selection import RepeatedKFold\n",
    "    X = np.array([[1, 2], [3, 4], [1, 2], [3, 4]])\n",
    "    random_state = 12883823\n",
    "    rkf = RepeatedKFold(n_splits=2, n_repeats=2, random_state=random_state)\n",
    "    for train, test in rkf.split(X):\n",
    "        print(\"%s %s\" % (train, test))\n",
    "repeated_k_fold_validation_test()"
   ]
  },
  {
   "cell_type": "markdown",
   "metadata": {},
   "source": [
    "### Supervised - Decision tree"
   ]
  },
  {
   "cell_type": "code",
   "execution_count": 31,
   "metadata": {
    "collapsed": true
   },
   "outputs": [],
   "source": [
    "# Train model\n",
    "from sklearn import tree\n",
    "def decision_tree(max_depth) :\n",
    "    print \"Training Decision Tree model...\"\n",
    "    from sklearn import tree\n",
    "\n",
    "    clf = tree.DecisionTreeClassifier(criterion='entropy', max_depth=max_depth) # classifier = learning algorithm that will learn from the training dataset\n",
    "    model = clf.fit(X_train, y_train) # finds patterns in training data and create a set of rules (the model)\n",
    "    print \"Model trained!\"\n",
    "\n",
    "    training_error = 1-clf.score(X_train, y_train)\n",
    "    test_error = 1-clf.score(X_test, y_test)\n",
    "    print \"Training error : \" + str(training_error)\n",
    "    print \"Test error : \" + str(test_error)\n",
    "    return model"
   ]
  },
  {
   "cell_type": "code",
   "execution_count": 32,
   "metadata": {},
   "outputs": [
    {
     "name": "stdout",
     "output_type": "stream",
     "text": [
      "Training Decision Tree model...\n",
      "Model trained!\n",
      "Training error : 0.162985074627\n",
      "Test error : 0.153939393939\n"
     ]
    }
   ],
   "source": [
    "model = decision_tree(max_depth=1)\n",
    "y_pred = model.predict(X_test)"
   ]
  },
  {
   "cell_type": "code",
   "execution_count": 33,
   "metadata": {},
   "outputs": [
    {
     "name": "stdout",
     "output_type": "stream",
     "text": [
      "Training Decision Tree model...\n",
      "Model trained!\n",
      "Training error : 0.0507462686567\n",
      "Test error : 0.0557575757576\n"
     ]
    }
   ],
   "source": [
    "model = decision_tree(max_depth=7)\n",
    "y_pred = model.predict(X_test)"
   ]
  },
  {
   "cell_type": "code",
   "execution_count": 34,
   "metadata": {},
   "outputs": [
    {
     "name": "stdout",
     "output_type": "stream",
     "text": [
      "Confusion matrix, without normalization\n"
     ]
    },
    {
     "data": {
      "image/png": "[encoded data removed]",
      "text/plain": [
       "<matplotlib.figure.Figure at 0x108ad6a50>"
      ]
     },
     "metadata": {},
     "output_type": "display_data"
    }
   ],
   "source": [
    "# Compute confusion matrix\n",
    "cnf_matrix = confusion_matrix(y_test, y_pred)\n",
    "plot_confusion_matrix(cnf_matrix, classes=class_names, title='Confusion matrix')"
   ]
  },
  {
   "cell_type": "markdown",
   "metadata": {},
   "source": [
    "### Supervised - SVM"
   ]
  },
  {
   "cell_type": "code",
   "execution_count": 35,
   "metadata": {},
   "outputs": [
    {
     "name": "stdout",
     "output_type": "stream",
     "text": [
      "Training SVM Model...\n",
      "Model trained!\n",
      "Training error : 0.314626865672\n",
      "Test error : 0.305454545455\n"
     ]
    }
   ],
   "source": [
    "print \"Training SVM Model...\"\n",
    "from sklearn import svm\n",
    "clf = svm.SVC()\n",
    "clf.fit(X_train, y_train)\n",
    "print \"Model trained!\"\n",
    "\n",
    "training_error = 1-clf.score(X_train, y_train)\n",
    "test_error = 1-clf.score(X_test, y_test)\n",
    "print \"Training error : \" + str(training_error)\n",
    "print \"Test error : \" + str(test_error)\n"
   ]
  },
  {
   "cell_type": "markdown",
   "metadata": {},
   "source": [
    "# Prediction"
   ]
  },
  {
   "cell_type": "code",
   "execution_count": 36,
   "metadata": {},
   "outputs": [],
   "source": [
    "#%run ExtractContent.py TT/ TEST/"
   ]
  },
  {
   "cell_type": "markdown",
   "metadata": {},
   "source": [
    "## For Train/test split"
   ]
  },
  {
   "cell_type": "code",
   "execution_count": 41,
   "metadata": {},
   "outputs": [],
   "source": [
    "mails = get_mails('TEST', 'TEST')\n",
    "X_test = tfidf_vectorizer.transform(mails)\n",
    "\n",
    "# Train again the classifier on the whole datasets (X, y) including testing datasets\n",
    "# with the best hyper parameters\n",
    "best_max_depth = 7\n",
    "model = tree.DecisionTreeClassifier(criterion='entropy', max_depth=best_max_depth) # classifier = learning algorithm that will learn from the training dataset\n",
    "model.fit(X, y)\n",
    "\n",
    "# Now predict new mails from the TEST dataset (non-labeled)\n",
    "y_pred = model.predict(X_test)"
   ]
  },
  {
   "cell_type": "code",
   "execution_count": null,
   "metadata": {
    "collapsed": true
   },
   "outputs": [],
   "source": []
  },
  {
   "cell_type": "code",
   "execution_count": 42,
   "metadata": {},
   "outputs": [],
   "source": [
    "# Store predicted labels\n",
    "fd = open('spam-mail.tt.label', 'w')\n",
    "fd.write('Id,Prediction')\n",
    "\n",
    "for i in range(0, len(y_pred)):\n",
    "    fd.write('\\n%d,%s' % (i+1, y_pred[i]))\n",
    "\n",
    "fd.close()\n"
   ]
  },
  {
   "cell_type": "markdown",
   "metadata": {},
   "source": [
    "## Parameter tuning using GridSearchCV"
   ]
  },
  {
   "cell_type": "code",
   "execution_count": 49,
   "metadata": {},
   "outputs": [
    {
     "name": "stdout",
     "output_type": "stream",
     "text": [
      "[1, 2, 3, 4, 5, 6, 7, 8, 9, 10, 11, 12, 13, 14, 15, 16, 17, 18, 19, 20, 21, 22, 23, 24, 25, 26, 27, 28, 29, 30]\n",
      "{'max_depth': [1, 2, 3, 4, 5, 6, 7, 8, 9, 10, 11, 12, 13, 14, 15, 16, 17, 18, 19, 20, 21, 22, 23, 24, 25, 26, 27, 28, 29, 30]}\n"
     ]
    },
    {
     "data": {
      "text/plain": [
       "GridSearchCV(cv=10, error_score='raise',\n",
       "       estimator=DecisionTreeClassifier(class_weight=None, criterion='entropy', max_depth=None,\n",
       "            max_features=None, max_leaf_nodes=None,\n",
       "            min_impurity_decrease=0.0, min_impurity_split=None,\n",
       "            min_samples_leaf=1, min_samples_split=2,\n",
       "            min_weight_fraction_leaf=0.0, presort=False, random_state=None,\n",
       "            splitter='best'),\n",
       "       fit_params=None, iid=True, n_jobs=-1,\n",
       "       param_grid={'max_depth': [1, 2, 3, 4, 5, 6, 7, 8, 9, 10, 11, 12, 13, 14, 15, 16, 17, 18, 19, 20, 21, 22, 23, 24, 25, 26, 27, 28, 29, 30]},\n",
       "       pre_dispatch='2*n_jobs', refit=True, return_train_score=True,\n",
       "       scoring='accuracy', verbose=0)"
      ]
     },
     "execution_count": 49,
     "metadata": {},
     "output_type": "execute_result"
    }
   ],
   "source": [
    "from sklearn.model_selection import GridSearchCV\n",
    "d_range = list(range(1, 31)) # list of parameter values to test\n",
    "# create a parameter grid: map the parameter names to the values that should be searched\n",
    "param_grid = dict(max_depth=d_range)\n",
    "\n",
    "dtc = tree.DecisionTreeClassifier(criterion='entropy')\n",
    "grid = GridSearchCV(dtc, param_grid, cv=10, scoring='accuracy', n_jobs=-1) # Do a 10-fold cross validation\n",
    "grid.fit(X, y) # fit the grid with data\n",
    "\n"
   ]
  },
  {
   "cell_type": "code",
   "execution_count": 50,
   "metadata": {},
   "outputs": [
    {
     "data": {
      "text/plain": [
       "{'mean_fit_time': array([ 0.45662942,  0.54945803,  0.73135014,  0.62135289,  0.7011029 ,\n",
       "         0.78910701,  0.83091047,  0.83422079,  1.02273343,  1.06413598,\n",
       "         1.063884  ,  1.05303657,  1.08398039,  1.16590059,  1.06463373,\n",
       "         1.14184659,  1.11711512,  1.04021635,  1.01137776,  1.11832607,\n",
       "         1.49491301,  1.46827443,  1.46522429,  1.44792209,  1.06306329,\n",
       "         1.08711698,  1.13401637,  1.05583386,  1.07318048,  0.98570518]),\n",
       " 'mean_score_time': array([ 0.0024579 ,  0.00156107,  0.00214338,  0.0016583 ,  0.00200717,\n",
       "         0.00182745,  0.0018065 ,  0.00157862,  0.00190847,  0.00194311,\n",
       "         0.00134149,  0.00203788,  0.0014852 ,  0.00149953,  0.00145161,\n",
       "         0.001583  ,  0.00174952,  0.00229242,  0.00132005,  0.00218599,\n",
       "         0.0025408 ,  0.00240667,  0.00176382,  0.00193226,  0.00145209,\n",
       "         0.00151608,  0.0018882 ,  0.00179381,  0.00146832,  0.0018024 ]),\n",
       " 'mean_test_score': array([ 0.84  ,  0.8516,  0.8996,  0.9288,  0.9292,  0.9336,  0.934 ,\n",
       "         0.9372,  0.9404,  0.9404,  0.9588,  0.9532,  0.9564,  0.9552,\n",
       "         0.956 ,  0.9564,  0.9556,  0.9544,  0.9564,  0.954 ,  0.9544,\n",
       "         0.956 ,  0.956 ,  0.956 ,  0.9544,  0.9552,  0.9588,  0.9556,\n",
       "         0.9556,  0.9564]),\n",
       " 'mean_train_score': array([ 0.84000027,  0.85240029,  0.90426688,  0.93271129,  0.94284474,\n",
       "         0.94813365,  0.95275579,  0.95804509,  0.96404442,  0.97311125,\n",
       "         0.98546678,  0.98960008,  0.99213343,  0.99453335,  0.99631113,\n",
       "         0.99720006,  0.99817774,  0.99866667,  0.99915556,  0.99924444,\n",
       "         0.99933333,  0.99968889,  0.99986667,  0.99995556,  1.        ,\n",
       "         1.        ,  1.        ,  1.        ,  1.        ,  1.        ]),\n",
       " 'param_max_depth': masked_array(data = [1 2 3 4 5 6 7 8 9 10 11 12 13 14 15 16 17 18 19 20 21 22 23 24 25 26 27 28\n",
       "  29 30],\n",
       "              mask = [False False False False False False False False False False False False\n",
       "  False False False False False False False False False False False False\n",
       "  False False False False False False],\n",
       "        fill_value = ?),\n",
       " 'params': [{'max_depth': 1},\n",
       "  {'max_depth': 2},\n",
       "  {'max_depth': 3},\n",
       "  {'max_depth': 4},\n",
       "  {'max_depth': 5},\n",
       "  {'max_depth': 6},\n",
       "  {'max_depth': 7},\n",
       "  {'max_depth': 8},\n",
       "  {'max_depth': 9},\n",
       "  {'max_depth': 10},\n",
       "  {'max_depth': 11},\n",
       "  {'max_depth': 12},\n",
       "  {'max_depth': 13},\n",
       "  {'max_depth': 14},\n",
       "  {'max_depth': 15},\n",
       "  {'max_depth': 16},\n",
       "  {'max_depth': 17},\n",
       "  {'max_depth': 18},\n",
       "  {'max_depth': 19},\n",
       "  {'max_depth': 20},\n",
       "  {'max_depth': 21},\n",
       "  {'max_depth': 22},\n",
       "  {'max_depth': 23},\n",
       "  {'max_depth': 24},\n",
       "  {'max_depth': 25},\n",
       "  {'max_depth': 26},\n",
       "  {'max_depth': 27},\n",
       "  {'max_depth': 28},\n",
       "  {'max_depth': 29},\n",
       "  {'max_depth': 30}],\n",
       " 'rank_test_score': array([30, 29, 28, 27, 26, 25, 24, 23, 21, 21,  1, 20,  3, 14,  7,  3, 11,\n",
       "        16,  3, 19, 16,  7,  7,  7, 16, 14,  1, 11, 11,  3], dtype=int32),\n",
       " 'split0_test_score': array([ 0.80876494,  0.81673307,  0.86454183,  0.90039841,  0.89641434,\n",
       "         0.90039841,  0.89243028,  0.91633466,  0.92828685,  0.92430279,\n",
       "         0.96015936,  0.94422311,  0.9561753 ,  0.94422311,  0.96414343,\n",
       "         0.96414343,  0.9561753 ,  0.95219124,  0.9561753 ,  0.9561753 ,\n",
       "         0.96015936,  0.96414343,  0.96414343,  0.95219124,  0.95219124,\n",
       "         0.9561753 ,  0.96414343,  0.9561753 ,  0.95219124,  0.96015936]),\n",
       " 'split0_train_score': array([ 0.84348599,  0.85638061,  0.90706981,  0.9355269 ,  0.94175189,\n",
       "         0.94753224,  0.94975545,  0.9608715 ,  0.96398399,  0.97954647,\n",
       "         0.98977323,  0.99333037,  0.99555358,  0.99644286,  0.99822143,\n",
       "         0.99955536,  0.99911072,  1.        ,  1.        ,  1.        ,\n",
       "         1.        ,  1.        ,  1.        ,  1.        ,  1.        ,\n",
       "         1.        ,  1.        ,  1.        ,  1.        ,  1.        ]),\n",
       " 'split1_test_score': array([ 0.836,  0.864,  0.936,  0.948,  0.944,  0.952,  0.94 ,  0.944,\n",
       "         0.94 ,  0.928,  0.952,  0.944,  0.932,  0.948,  0.94 ,  0.936,\n",
       "         0.948,  0.944,  0.952,  0.952,  0.948,  0.948,  0.952,  0.948,\n",
       "         0.94 ,  0.94 ,  0.952,  0.948,  0.944,  0.948]),\n",
       " 'split1_train_score': array([ 0.84044444,  0.85111111,  0.90088889,  0.932     ,  0.94444444,\n",
       "         0.94933333,  0.95511111,  0.95866667,  0.96088889,  0.97244444,\n",
       "         0.98711111,  0.99022222,  0.99333333,  0.99511111,  0.99688889,\n",
       "         0.99822222,  0.99955556,  0.99955556,  1.        ,  1.        ,\n",
       "         1.        ,  1.        ,  1.        ,  1.        ,  1.        ,\n",
       "         1.        ,  1.        ,  1.        ,  1.        ,  1.        ]),\n",
       " 'split2_test_score': array([ 0.84 ,  0.848,  0.916,  0.936,  0.94 ,  0.948,  0.952,  0.948,\n",
       "         0.932,  0.936,  0.948,  0.944,  0.948,  0.94 ,  0.936,  0.944,\n",
       "         0.944,  0.94 ,  0.936,  0.936,  0.936,  0.932,  0.924,  0.948,\n",
       "         0.936,  0.936,  0.944,  0.94 ,  0.932,  0.948]),\n",
       " 'split2_train_score': array([ 0.84      ,  0.85288889,  0.90311111,  0.93111111,  0.94266667,\n",
       "         0.94888889,  0.95466667,  0.95777778,  0.96622222,  0.97333333,\n",
       "         0.98      ,  0.98622222,  0.98888889,  0.99111111,  0.99377778,\n",
       "         0.99377778,  0.996     ,  0.99688889,  0.99777778,  0.99866667,\n",
       "         0.99866667,  0.99866667,  1.        ,  1.        ,  1.        ,\n",
       "         1.        ,  1.        ,  1.        ,  1.        ,  1.        ]),\n",
       " 'split3_test_score': array([ 0.828,  0.84 ,  0.884,  0.92 ,  0.936,  0.94 ,  0.936,  0.936,\n",
       "         0.94 ,  0.948,  0.968,  0.968,  0.972,  0.968,  0.96 ,  0.964,\n",
       "         0.96 ,  0.96 ,  0.96 ,  0.96 ,  0.96 ,  0.956,  0.964,  0.968,\n",
       "         0.96 ,  0.96 ,  0.96 ,  0.96 ,  0.968,  0.96 ]),\n",
       " 'split3_train_score': array([ 0.84133333,  0.85288889,  0.90622222,  0.93422222,  0.94488889,\n",
       "         0.95111111,  0.95644444,  0.96      ,  0.96266667,  0.97111111,\n",
       "         0.98755556,  0.99244444,  0.99288889,  0.99555556,  0.99777778,\n",
       "         0.99866667,  0.99955556,  1.        ,  1.        ,  1.        ,\n",
       "         1.        ,  1.        ,  1.        ,  1.        ,  1.        ,\n",
       "         1.        ,  1.        ,  1.        ,  1.        ,  1.        ]),\n",
       " 'split4_test_score': array([ 0.828,  0.856,  0.896,  0.928,  0.924,  0.928,  0.932,  0.936,\n",
       "         0.928,  0.908,  0.944,  0.936,  0.94 ,  0.932,  0.936,  0.936,\n",
       "         0.944,  0.94 ,  0.94 ,  0.944,  0.94 ,  0.94 ,  0.944,  0.928,\n",
       "         0.94 ,  0.94 ,  0.944,  0.944,  0.944,  0.932]),\n",
       " 'split4_train_score': array([ 0.84133333,  0.852     ,  0.90444444,  0.932     ,  0.94533333,\n",
       "         0.95111111,  0.95644444,  0.95777778,  0.96088889,  0.96933333,\n",
       "         0.98844444,  0.99022222,  0.992     ,  0.99466667,  0.99777778,\n",
       "         0.99866667,  0.99955556,  1.        ,  1.        ,  1.        ,\n",
       "         1.        ,  1.        ,  1.        ,  1.        ,  1.        ,\n",
       "         1.        ,  1.        ,  1.        ,  1.        ,  1.        ]),\n",
       " 'split5_test_score': array([ 0.86 ,  0.864,  0.9  ,  0.936,  0.928,  0.932,  0.932,  0.932,\n",
       "         0.944,  0.948,  0.98 ,  0.968,  0.968,  0.964,  0.976,  0.976,\n",
       "         0.96 ,  0.956,  0.964,  0.968,  0.964,  0.964,  0.968,  0.968,\n",
       "         0.976,  0.96 ,  0.964,  0.964,  0.976,  0.968]),\n",
       " 'split5_train_score': array([ 0.83777778,  0.85111111,  0.90355556,  0.932     ,  0.94488889,\n",
       "         0.95066667,  0.95644444,  0.95955556,  0.96133333,  0.968     ,\n",
       "         0.984     ,  0.98933333,  0.99422222,  0.99688889,  0.99822222,\n",
       "         0.99866667,  1.        ,  1.        ,  1.        ,  1.        ,\n",
       "         1.        ,  1.        ,  1.        ,  1.        ,  1.        ,\n",
       "         1.        ,  1.        ,  1.        ,  1.        ,  1.        ]),\n",
       " 'split6_test_score': array([ 0.844,  0.844,  0.888,  0.916,  0.912,  0.932,  0.936,  0.928,\n",
       "         0.94 ,  0.948,  0.948,  0.94 ,  0.944,  0.956,  0.948,  0.956,\n",
       "         0.952,  0.948,  0.96 ,  0.948,  0.94 ,  0.96 ,  0.948,  0.956,\n",
       "         0.968,  0.968,  0.964,  0.944,  0.952,  0.96 ]),\n",
       " 'split6_train_score': array([ 0.83955556,  0.85333333,  0.90622222,  0.93422222,  0.94533333,\n",
       "         0.95022222,  0.956     ,  0.96444444,  0.972     ,  0.97866667,\n",
       "         0.98355556,  0.98622222,  0.98844444,  0.99066667,  0.99155556,\n",
       "         0.99288889,  0.99333333,  0.99466667,  0.99733333,  0.99688889,\n",
       "         0.99733333,  0.99955556,  0.99911111,  1.        ,  1.        ,\n",
       "         1.        ,  1.        ,  1.        ,  1.        ,  1.        ]),\n",
       " 'split7_test_score': array([ 0.848,  0.856,  0.892,  0.924,  0.928,  0.92 ,  0.936,  0.936,\n",
       "         0.936,  0.944,  0.96 ,  0.964,  0.964,  0.968,  0.964,  0.968,\n",
       "         0.968,  0.964,  0.964,  0.952,  0.964,  0.968,  0.96 ,  0.96 ,\n",
       "         0.94 ,  0.968,  0.968,  0.968,  0.956,  0.96 ]),\n",
       " 'split7_train_score': array([ 0.83911111,  0.852     ,  0.90355556,  0.93244444,  0.94711111,\n",
       "         0.95155556,  0.95688889,  0.95955556,  0.96177778,  0.96933333,\n",
       "         0.98844444,  0.99288889,  0.99511111,  0.99866667,  0.99955556,\n",
       "         1.        ,  1.        ,  1.        ,  1.        ,  1.        ,\n",
       "         1.        ,  1.        ,  1.        ,  1.        ,  1.        ,\n",
       "         1.        ,  1.        ,  1.        ,  1.        ,  1.        ]),\n",
       " 'split8_test_score': array([ 0.844,  0.852,  0.896,  0.936,  0.94 ,  0.94 ,  0.94 ,  0.952,\n",
       "         0.956,  0.96 ,  0.956,  0.952,  0.968,  0.96 ,  0.956,  0.956,\n",
       "         0.964,  0.964,  0.96 ,  0.96 ,  0.96 ,  0.96 ,  0.96 ,  0.964,\n",
       "         0.964,  0.956,  0.964,  0.96 ,  0.96 ,  0.956]),\n",
       " 'split8_train_score': array([ 0.83955556,  0.85244444,  0.90533333,  0.932     ,  0.93688889,\n",
       "         0.94044444,  0.94133333,  0.95555556,  0.96622222,  0.97288889,\n",
       "         0.97866667,  0.98355556,  0.98755556,  0.99022222,  0.99155556,\n",
       "         0.99333333,  0.99466667,  0.99555556,  0.99644444,  0.99688889,\n",
       "         0.99733333,  0.99866667,  0.99955556,  0.99955556,  1.        ,\n",
       "         1.        ,  1.        ,  1.        ,  1.        ,  1.        ]),\n",
       " 'split9_test_score': array([ 0.86345382,  0.87550201,  0.92369478,  0.9437751 ,  0.9437751 ,\n",
       "         0.9437751 ,  0.9437751 ,  0.9437751 ,  0.95983936,  0.95983936,\n",
       "         0.97188755,  0.97188755,  0.97188755,  0.97188755,  0.97991968,\n",
       "         0.96385542,  0.95983936,  0.97590361,  0.97188755,  0.96385542,\n",
       "         0.97188755,  0.96787149,  0.97590361,  0.96787149,  0.96787149,\n",
       "         0.96787149,  0.96385542,  0.97188755,  0.97188755,  0.97188755]),\n",
       " 'split9_train_score': array([ 0.8374056 ,  0.84984451,  0.90226566,  0.93158596,  0.93513994,\n",
       "         0.9404709 ,  0.94446912,  0.94624611,  0.96446024,  0.97645491,\n",
       "         0.98711684,  0.99155931,  0.99333629,  0.99600178,  0.99777876,\n",
       "         0.99822301,  1.        ,  1.        ,  1.        ,  1.        ,\n",
       "         1.        ,  1.        ,  1.        ,  1.        ,  1.        ,\n",
       "         1.        ,  1.        ,  1.        ,  1.        ,  1.        ]),\n",
       " 'std_fit_time': array([ 0.04083766,  0.0384255 ,  0.16129107,  0.02756877,  0.02229466,\n",
       "         0.03925384,  0.03667398,  0.0295677 ,  0.13900047,  0.05926241,\n",
       "         0.10259261,  0.04191611,  0.04511037,  0.0547816 ,  0.06726209,\n",
       "         0.07916064,  0.04650973,  0.05376885,  0.04730643,  0.07418018,\n",
       "         0.11299518,  0.1609461 ,  0.09014463,  0.09499611,  0.0644975 ,\n",
       "         0.08295256,  0.08459973,  0.09261274,  0.06907968,  0.08554415]),\n",
       " 'std_score_time': array([  1.57775898e-03,   5.40913437e-04,   1.29172765e-03,\n",
       "          8.30481833e-04,   1.71746029e-03,   6.25899353e-04,\n",
       "          5.10568196e-04,   5.35866501e-04,   9.85947027e-04,\n",
       "          1.57771264e-03,   1.15886548e-04,   8.96930899e-04,\n",
       "          3.33330051e-04,   1.86249269e-04,   2.62164689e-04,\n",
       "          3.14477598e-04,   9.81348168e-04,   1.75717864e-03,\n",
       "          9.95843924e-05,   1.92581678e-03,   2.95297053e-03,\n",
       "          2.71159894e-03,   1.05047948e-03,   1.05197733e-03,\n",
       "          2.10400073e-04,   3.66730022e-04,   1.03254781e-03,\n",
       "          6.46572468e-04,   1.28935798e-04,   7.78907425e-04]),\n",
       " 'std_test_score': array([ 0.01525586,  0.0153012 ,  0.019667  ,  0.01349946,  0.01454339,\n",
       "         0.01434975,  0.01498708,  0.00988981,  0.01012014,  0.01558786,\n",
       "         0.01101986,  0.01274462,  0.01377619,  0.01283844,  0.01495474,\n",
       "         0.01295547,  0.00788107,  0.01116931,  0.01047776,  0.00915146,\n",
       "         0.01174382,  0.01158857,  0.0139612 ,  0.01197887,  0.01386122,\n",
       "         0.0116876 ,  0.00840025,  0.01047776,  0.01305515,  0.01078505]),\n",
       " 'std_train_score': array([ 0.00169587,  0.00165437,  0.00185568,  0.00135703,  0.00370899,\n",
       "         0.00400539,  0.00534573,  0.00450852,  0.00327497,  0.00377715,\n",
       "         0.0035777 ,  0.00311226,  0.00271099,  0.00274008,  0.00276164,\n",
       "         0.00259193,  0.00238885,  0.00200739,  0.00132516,  0.00124206,\n",
       "         0.00107497,  0.00052775,  0.00028458,  0.00013333,  0.        ,\n",
       "         0.        ,  0.        ,  0.        ,  0.        ,  0.        ])}"
      ]
     },
     "execution_count": 50,
     "metadata": {},
     "output_type": "execute_result"
    }
   ],
   "source": [
    "grid.cv_results_"
   ]
  },
  {
   "cell_type": "code",
   "execution_count": 47,
   "metadata": {},
   "outputs": [
    {
     "name": "stdout",
     "output_type": "stream",
     "text": [
      "0.9592\n",
      "{'max_depth': 27}\n",
      "DecisionTreeClassifier(class_weight=None, criterion='entropy', max_depth=27,\n",
      "            max_features=None, max_leaf_nodes=None,\n",
      "            min_impurity_decrease=0.0, min_impurity_split=None,\n",
      "            min_samples_leaf=1, min_samples_split=2,\n",
      "            min_weight_fraction_leaf=0.0, presort=False, random_state=None,\n",
      "            splitter='best')\n"
     ]
    }
   ],
   "source": [
    "# examine the best model\n",
    "print(grid.best_score_)\n",
    "print(grid.best_params_)\n",
    "print(grid.best_estimator_)"
   ]
  },
  {
   "cell_type": "code",
   "execution_count": null,
   "metadata": {
    "collapsed": true
   },
   "outputs": [],
   "source": []
  },
  {
   "cell_type": "code",
   "execution_count": null,
   "metadata": {
    "collapsed": true
   },
   "outputs": [],
   "source": []
  }
 ],
 "metadata": {
  "kernelspec": {
   "display_name": "Python 2",
   "language": "python",
   "name": "python2"
  },
  "language_info": {
   "codemirror_mode": {
    "name": "ipython",
    "version": 2
   },
   "file_extension": ".py",
   "mimetype": "text/x-python",
   "name": "python",
   "nbconvert_exporter": "python",
   "pygments_lexer": "ipython2",
   "version": "2.7.13"
  }
 },
 "nbformat": 4,
 "nbformat_minor": 2
}
