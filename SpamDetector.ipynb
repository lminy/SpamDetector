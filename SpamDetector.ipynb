{
 "cells": [
  {
   "cell_type": "markdown",
   "metadata": {},
   "source": [
    "# SpamDetector"
   ]
  },
  {
   "cell_type": "markdown",
   "metadata": {
    "collapsed": true
   },
   "source": [
    "## Preprocessing"
   ]
  },
  {
   "cell_type": "code",
   "execution_count": 1,
   "metadata": {
    "collapsed": true
   },
   "outputs": [],
   "source": [
    "%run ExtractContent.py TR/ TRAIN/"
   ]
  },
  {
   "cell_type": "code",
   "execution_count": 29,
   "metadata": {
    "collapsed": true
   },
   "outputs": [],
   "source": [
    "# Get labels\n",
    "import string\n",
    "import csv\n",
    "labels = list()\n",
    "with open('spam-mail.tr.label','rb') as f :\n",
    "    labels_reader = csv.reader(f, delimiter=',')\n",
    "    count_row = 0\n",
    "\n",
    "    for row in labels_reader:\n",
    "        if count_row != 0 :\n",
    "            labels.append(row[1])\n",
    "        count_row = count_row + 1\n",
    "        \n",
    "class_names = ['Spam', 'Ham']\n",
    "#print labels"
   ]
  },
  {
   "cell_type": "code",
   "execution_count": 5,
   "metadata": {
    "collapsed": true
   },
   "outputs": [],
   "source": [
    "# Get mails\n",
    "from sklearn.feature_extraction.text import TfidfVectorizer\n",
    "import codecs\n",
    "\n",
    "mails = list()\n",
    "for i in range(1, 2501) :\n",
    "    with codecs.open('TRAIN/TRAIN_%s.eml'%i, 'r', encoding='utf-8', errors='ignore') as f :\n",
    "        mail = f.read()\n",
    "        mails.append(mail)\n",
    "\n",
    "# Compute TD-IDF features\n",
    "vectorizer = TfidfVectorizer(stop_words='english', strip_accents='ascii')\n",
    "mail_vectors = vectorizer.fit_transform(mails)"
   ]
  },
  {
   "cell_type": "code",
   "execution_count": 6,
   "metadata": {
    "collapsed": true
   },
   "outputs": [],
   "source": [
    "# Divise dataset\n",
    "from sklearn.model_selection import train_test_split\n",
    "X_train, X_test, y_train, y_test = train_test_split(mail_vectors, labels, test_size=0.33, random_state=42)\n"
   ]
  },
  {
   "cell_type": "markdown",
   "metadata": {},
   "source": [
    "## Machine Learning"
   ]
  },
  {
   "cell_type": "markdown",
   "metadata": {},
   "source": [
    "### Tools"
   ]
  },
  {
   "cell_type": "code",
   "execution_count": 44,
   "metadata": {},
   "outputs": [],
   "source": [
    "# Inspired from : http://scikit-learn.org/stable/auto_examples/model_selection/plot_confusion_matrix.html\n",
    "import numpy as np\n",
    "import matplotlib.pyplot as plt\n",
    "from sklearn.metrics import confusion_matrix\n",
    "\n",
    "def plot_confusion_matrix(cm, classes,\n",
    "                          normalize=False,\n",
    "                          title='Confusion matrix',\n",
    "                          cmap=plt.cm.Blues):\n",
    "    plt.figure()\n",
    "    \"\"\"\n",
    "    This function prints and plots the confusion matrix.\n",
    "    Normalization can be applied by setting `normalize=True`.\n",
    "    \"\"\"\n",
    "    if normalize:\n",
    "        cm = cm.astype('float') / cm.sum(axis=1)[:, np.newaxis]\n",
    "        print(\"Normalized confusion matrix\")\n",
    "    else:\n",
    "        print('Confusion matrix, without normalization')\n",
    "\n",
    "    #print(cm)\n",
    "\n",
    "    plt.imshow(cm, interpolation='nearest', cmap=cmap)\n",
    "    plt.title(title)\n",
    "    plt.colorbar()\n",
    "    tick_marks = np.arange(len(classes))\n",
    "    plt.xticks(tick_marks, classes, rotation=45)\n",
    "    plt.yticks(tick_marks, classes)\n",
    "\n",
    "    fmt = '.2f' if normalize else 'd'\n",
    "    thresh = cm.max() / 2.\n",
    "    for i, j in itertools.product(range(cm.shape[0]), range(cm.shape[1])):\n",
    "        plt.text(j, i, format(cm[i, j], fmt),\n",
    "                 horizontalalignment=\"center\",\n",
    "                 color=\"white\" if cm[i, j] > thresh else \"black\")\n",
    "\n",
    "    plt.tight_layout()\n",
    "    plt.ylabel('True label')\n",
    "    plt.xlabel('Predicted label')\n",
    "    plt.show()\n",
    "    \n"
   ]
  },
  {
   "cell_type": "markdown",
   "metadata": {},
   "source": [
    "### Supervised - Decision tree"
   ]
  },
  {
   "cell_type": "code",
   "execution_count": 19,
   "metadata": {},
   "outputs": [],
   "source": [
    "# Train model\n",
    "def decision_tree(max_depth) :\n",
    "    print \"Training Decision Tree model...\"\n",
    "    from sklearn import tree\n",
    "\n",
    "    clf = tree.DecisionTreeClassifier(criterion='entropy', max_depth=max_depth) # classifier = learning algorithm that will learn from the training dataset\n",
    "    model = clf.fit(X_train, y_train) # finds patterns in training data and create a set of rules (the model)\n",
    "    print \"Model trained!\"\n",
    "\n",
    "    training_error = 1-clf.score(X_train, y_train)\n",
    "    test_error = 1-clf.score(X_test, y_test)\n",
    "    print \"Training error : \" + str(training_error)\n",
    "    print \"Test error : \" + str(test_error)\n",
    "    return model.predict(X_test)"
   ]
  },
  {
   "cell_type": "code",
   "execution_count": 30,
   "metadata": {},
   "outputs": [
    {
     "name": "stdout",
     "output_type": "stream",
     "text": [
      "Training Decision Tree model...\n",
      "Model trained!\n",
      "Training error : 0.151641791045\n",
      "Test error : 0.139393939394\n"
     ]
    }
   ],
   "source": [
    "y_pred = decision_tree(max_depth=2)"
   ]
  },
  {
   "cell_type": "code",
   "execution_count": 41,
   "metadata": {},
   "outputs": [
    {
     "name": "stdout",
     "output_type": "stream",
     "text": [
      "Training Decision Tree model...\n",
      "Model trained!\n",
      "Training error : 0.162985074627\n",
      "Test error : 0.153939393939\n"
     ]
    }
   ],
   "source": [
    "y_pred = decision_tree(max_depth=1)"
   ]
  },
  {
   "cell_type": "code",
   "execution_count": 45,
   "metadata": {},
   "outputs": [
    {
     "name": "stdout",
     "output_type": "stream",
     "text": [
      "Confusion matrix, without normalization\n"
     ]
    },
    {
     "data": {
      "image/png": "[encoded data removed]",
      "text/plain": [
       "<matplotlib.figure.Figure at 0x10c93e890>"
      ]
     },
     "metadata": {},
     "output_type": "display_data"
    }
   ],
   "source": [
    "# Compute confusion matrix\n",
    "cnf_matrix = confusion_matrix(y_test, y_pred)\n",
    "plot_confusion_matrix(cnf_matrix, classes=class_names, title='Confusion matrix')"
   ]
  },
  {
   "cell_type": "markdown",
   "metadata": {},
   "source": [
    "### Supervised - SVM"
   ]
  },
  {
   "cell_type": "code",
   "execution_count": 6,
   "metadata": {},
   "outputs": [
    {
     "name": "stdout",
     "output_type": "stream",
     "text": [
      "Training SVM Model...\n",
      "Model trained!\n",
      "Training error : 0.314626865672\n",
      "Test error : 0.305454545455\n"
     ]
    }
   ],
   "source": [
    "print \"Training SVM Model...\"\n",
    "from sklearn import svm\n",
    "clf = svm.SVC()\n",
    "clf.fit(X_train, y_train)\n",
    "print \"Model trained!\"\n",
    "\n",
    "training_error = 1-clf.score(X_train, y_train)\n",
    "test_error = 1-clf.score(X_test, y_test)\n",
    "print \"Training error : \" + str(training_error)\n",
    "print \"Test error : \" + str(test_error)\n"
   ]
  }
 ],
 "metadata": {
  "kernelspec": {
   "display_name": "Python 2",
   "language": "python",
   "name": "python2"
  },
  "language_info": {
   "codemirror_mode": {
    "name": "ipython",
    "version": 2
   },
   "file_extension": ".py",
   "mimetype": "text/x-python",
   "name": "python",
   "nbconvert_exporter": "python",
   "pygments_lexer": "ipython2",
   "version": "2.7.13"
  }
 },
 "nbformat": 4,
 "nbformat_minor": 2
}
