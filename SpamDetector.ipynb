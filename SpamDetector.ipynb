{
 "cells": [
  {
   "cell_type": "markdown",
   "metadata": {},
   "source": [
    "# SpamDetector"
   ]
  },
  {
   "cell_type": "markdown",
   "metadata": {
    "collapsed": true
   },
   "source": [
    "## Preprocessing"
   ]
  },
  {
   "cell_type": "code",
   "execution_count": 2,
   "metadata": {},
   "outputs": [
    {
     "name": "stdout",
     "output_type": "stream",
     "text": [
      "The destination directory is newly created.\n"
     ]
    }
   ],
   "source": [
    "%run ExtractContent.py TR/ TRAIN/"
   ]
  },
  {
   "cell_type": "code",
   "execution_count": 2,
   "metadata": {
    "collapsed": true
   },
   "outputs": [],
   "source": [
    "# Get labels\n",
    "import string\n",
    "import csv\n",
    "labels = list()\n",
    "with open('spam-mail.tr.label','rb') as f :\n",
    "    labels_reader = csv.reader(f, delimiter=',')\n",
    "    count_row = 0\n",
    "\n",
    "    for row in labels_reader:\n",
    "        if count_row != 0 :\n",
    "            labels.append(row[1])\n",
    "        count_row = count_row + 1\n",
    "#print labels"
   ]
  },
  {
   "cell_type": "code",
   "execution_count": 3,
   "metadata": {
    "collapsed": true
   },
   "outputs": [],
   "source": [
    "# Get mails\n",
    "from sklearn.feature_extraction.text import TfidfVectorizer\n",
    "import codecs\n",
    "\n",
    "mails = list()\n",
    "for i in range(1, 2501) :\n",
    "    with codecs.open('TRAIN/TRAIN_%s.eml'%i, 'r', encoding='utf-8', errors='ignore') as f :\n",
    "        mail = f.read()\n",
    "        mails.append(mail)\n",
    "\n",
    "# Compute TD-IDF features\n",
    "vectorizer = TfidfVectorizer(stop_words='english', strip_accents='ascii')\n",
    "mail_vectors = vectorizer.fit_transform(mails)"
   ]
  },
  {
   "cell_type": "code",
   "execution_count": 4,
   "metadata": {
    "collapsed": true
   },
   "outputs": [],
   "source": [
    "# Divise dataset\n",
    "from sklearn.model_selection import train_test_split\n",
    "X_train, X_test, y_train, y_test = train_test_split(mail_vectors, labels, test_size=0.33, random_state=42)\n"
   ]
  },
  {
   "cell_type": "markdown",
   "metadata": {},
   "source": [
    "## Machine Learning"
   ]
  },
  {
   "cell_type": "markdown",
   "metadata": {},
   "source": [
    "### Supervised - Decision tree"
   ]
  },
  {
   "cell_type": "code",
   "execution_count": 5,
   "metadata": {},
   "outputs": [
    {
     "name": "stdout",
     "output_type": "stream",
     "text": [
      "Training...\n",
      "Model trained!\n",
      "Training error : 0.151641791045\n",
      "Test error : 0.139393939394\n"
     ]
    }
   ],
   "source": [
    "# Train model\n",
    "print \"Training...\"\n",
    "from sklearn import tree\n",
    "\n",
    "clf = tree.DecisionTreeClassifier(criterion='entropy', max_depth=2) # classifier = learning algorithm that will learn from the training dataset\n",
    "model = clf.fit(X_train, y_train) # finds patterns in training data and create a set of rules (the model)\n",
    "print \"Model trained!\"\n",
    "\n",
    "training_error = 1-clf.score(X_train, y_train)\n",
    "test_error = 1-clf.score(X_test, y_test)\n",
    "print \"Training error : \" + str(training_error)\n",
    "print \"Test error : \" + str(test_error)\n",
    "\n"
   ]
  },
  {
   "cell_type": "code",
   "execution_count": null,
   "metadata": {
    "collapsed": true
   },
   "outputs": [],
   "source": []
  },
  {
   "cell_type": "markdown",
   "metadata": {},
   "source": [
    "### Supervised - SVM"
   ]
  },
  {
   "cell_type": "code",
   "execution_count": 6,
   "metadata": {},
   "outputs": [
    {
     "name": "stdout",
     "output_type": "stream",
     "text": [
      "Some code\n",
      "Training error : 0.314626865672\n",
      "Test error : 0.305454545455\n"
     ]
    }
   ],
   "source": [
    "print \"Some code\"\n",
    "from sklearn import svm\n",
    "#X = [[0, 0], [1, 1]]\n",
    "#y = [0, 1]\n",
    "clf = svm.SVC()\n",
    "clf.fit(X_train, y_train)\n",
    "\n",
    "training_error = 1-clf.score(X_train, y_train)\n",
    "test_error = 1-clf.score(X_test, y_test)\n",
    "print \"Training error : \" + str(training_error)\n",
    "print \"Test error : \" + str(test_error)\n"
   ]
  }
 ],
 "metadata": {
  "kernelspec": {
   "display_name": "Python 2",
   "language": "python",
   "name": "python2"
  },
  "language_info": {
   "codemirror_mode": {
    "name": "ipython",
    "version": 2
   },
   "file_extension": ".py",
   "mimetype": "text/x-python",
   "name": "python",
   "nbconvert_exporter": "python",
   "pygments_lexer": "ipython2",
   "version": "2.7.13"
  }
 },
 "nbformat": 4,
 "nbformat_minor": 2
}
