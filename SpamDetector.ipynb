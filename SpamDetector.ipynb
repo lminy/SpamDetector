{
 "cells": [
  {
   "cell_type": "markdown",
   "metadata": {},
   "source": [
    "# SpamDetector"
   ]
  },
  {
   "cell_type": "markdown",
   "metadata": {
    "collapsed": true
   },
   "source": [
    "## Preprocessing"
   ]
  },
  {
   "cell_type": "code",
   "execution_count": 384,
   "metadata": {},
   "outputs": [],
   "source": [
    "%%python3\n",
    "import nltk\n",
    "nltk.download('punkt')\n",
    "nltk.download('stopwords')"
   ]
  },
  {
   "cell_type": "code",
   "execution_count": 385,
   "metadata": {},
   "outputs": [],
   "source": [
    "%%script bash\n",
    "python3 FeaturesFromMail.py TR/ TRAIN/ >> /dev/null"
   ]
  },
  {
   "cell_type": "code",
   "execution_count": 306,
   "metadata": {
    "collapsed": true
   },
   "outputs": [],
   "source": [
    "# Get labels\n",
    "import string\n",
    "import csv\n",
    "y = list() # y = labels\n",
    "with open('spam-mail.tr.label','rb') as f :\n",
    "    labels_reader = csv.reader(f, delimiter=',')\n",
    "    count_row = 0\n",
    "\n",
    "    for row in labels_reader:\n",
    "        if count_row != 0 :\n",
    "            y.append(row[1])\n",
    "        count_row = count_row + 1\n",
    "        \n",
    "class_names = ['Spam', 'Ham']"
   ]
  },
  {
   "cell_type": "code",
   "execution_count": 375,
   "metadata": {},
   "outputs": [],
   "source": [
    "def get_features(folder) :\n",
    "    with open(folder + '/features', 'r') as f :\n",
    "        features = json.loads(f.read())\n",
    "        # text = Object + Body + Attachment if .txt + Attachment filenames + X-Mailer\n",
    "        # nbrHops = # of server where the mail has been received (# of received in mail header)\n",
    "        # nbrReceivers = total # of receiver in To, Cc and Bcc\n",
    "        # validityDate = the date mail is valid only if not in the future\n",
    "        features_name = ['text', 'nbrHops', 'nbrReceivers', 'validityDate']\n",
    "    return features"
   ]
  },
  {
   "cell_type": "code",
   "execution_count": 376,
   "metadata": {},
   "outputs": [],
   "source": [
    "features = get_features('TRAIN')\n",
    "text = features[0]\n",
    "# Compute TF-IDF features\n",
    "tfidf = TfidfVectorizer()#stop_words='english', strip_accents='ascii')\n",
    "tfidf.fit(text) # tfidf remembers the term frequencies and vocabulary that was used to fit it.\n",
    "X = tfidf.transform(text).todense()"
   ]
  },
  {
   "cell_type": "code",
   "execution_count": 363,
   "metadata": {},
   "outputs": [],
   "source": [
    "# Divise dataset\n",
    "def divide_dataset(X, y) :\n",
    "    from sklearn.model_selection import train_test_split\n",
    "    X_train, X_test, y_train, y_test = train_test_split(X, y, test_size=0.33, random_state=42)\n",
    "    return (X_train, X_test, y_train, y_test)\n",
    "\n",
    "X_train, X_test, y_train, y_test = divide_dataset(X, y)"
   ]
  },
  {
   "cell_type": "markdown",
   "metadata": {},
   "source": [
    "# Classification"
   ]
  },
  {
   "cell_type": "code",
   "execution_count": 309,
   "metadata": {
    "collapsed": true
   },
   "outputs": [],
   "source": [
    "from sklearn.model_selection import GridSearchCV\n",
    "from sklearn import tree\n",
    "from sklearn.neighbors import KNeighborsClassifier\n",
    "from sklearn import svm\n",
    "from sklearn.naive_bayes import MultinomialNB\n",
    "from sklearn.naive_bayes import BernoulliNB\n",
    "from sklearn.naive_bayes import GaussianNB"
   ]
  },
  {
   "cell_type": "code",
   "execution_count": 310,
   "metadata": {
    "collapsed": true
   },
   "outputs": [],
   "source": [
    "results = dict()"
   ]
  },
  {
   "cell_type": "code",
   "execution_count": 327,
   "metadata": {},
   "outputs": [],
   "source": [
    "import time\n",
    "import datetime\n",
    "def train(classifier, name, param_grid=None) :\n",
    "    start_time = time.time()\n",
    "    if param_grid == None :\n",
    "        classifier.fit(X_train, y_train)\n",
    "        results[name] = dict(model=classifier)\n",
    "    else :\n",
    "        grid = GridSearchCV(classifier, param_grid, cv=10, scoring='accuracy', n_jobs=2) # Do a 10-fold cross validation\n",
    "        grid.fit(X, y) # fit the grid with data\n",
    "        results[name] = dict(grid=grid, model=classifier)\n",
    "    #total_time = datetime.datetime.fromtimestamp(time.time() - start_time)\n",
    "    total_time = datetime.timedelta(seconds=time.time() - start_time)\n",
    "    print(\"Training time : \" + str(total_time))#.strftime('%H:%M:%S'))"
   ]
  },
  {
   "cell_type": "markdown",
   "metadata": {},
   "source": [
    "## k-NN classifier"
   ]
  },
  {
   "cell_type": "code",
   "execution_count": 313,
   "metadata": {},
   "outputs": [
    {
     "name": "stdout",
     "output_type": "stream",
     "text": [
      "Training time : 0:01:29.348193\n"
     ]
    }
   ],
   "source": [
    "name = \"k-NN\"\n",
    "classifier = KNeighborsClassifier(weights='uniform')\n",
    "k_range = list(range(1, 31)) # list of parameter values to test\n",
    "param_grid = dict(n_neighbors=k_range)\n",
    "train(classifier, name, param_grid)"
   ]
  },
  {
   "cell_type": "markdown",
   "metadata": {},
   "source": [
    "## Decision tree"
   ]
  },
  {
   "cell_type": "code",
   "execution_count": 314,
   "metadata": {},
   "outputs": [
    {
     "name": "stdout",
     "output_type": "stream",
     "text": [
      "Training time : 0:01:16.971181\n"
     ]
    }
   ],
   "source": [
    "name = \"Decision tree\"\n",
    "classifier = tree.DecisionTreeClassifier(criterion='entropy')\n",
    "d_range = list(range(1, 31)) # list of parameter values to test\n",
    "#s_range = list(range(2, 10))\n",
    "param_grid = dict(max_depth=d_range)#, min_samples_split=s_range)\n",
    "train(classifier, name, param_grid)"
   ]
  },
  {
   "cell_type": "markdown",
   "metadata": {},
   "source": [
    "## Naive Bayes"
   ]
  },
  {
   "cell_type": "code",
   "execution_count": 358,
   "metadata": {},
   "outputs": [
    {
     "name": "stdout",
     "output_type": "stream",
     "text": [
      "Training time : 0:00:02.102494\n"
     ]
    }
   ],
   "source": [
    "name = \"Naive Bayes - Gaussian\"\n",
    "classifier = GaussianNB()\n",
    "train(classifier, name)"
   ]
  },
  {
   "cell_type": "code",
   "execution_count": 329,
   "metadata": {},
   "outputs": [
    {
     "name": "stdout",
     "output_type": "stream",
     "text": [
      "Training time : 0:00:00.277185\n"
     ]
    }
   ],
   "source": [
    "name = \"Naive Bayes - Multinomial\"\n",
    "classifier = MultinomialNB()\n",
    "train(classifier, name)"
   ]
  },
  {
   "cell_type": "code",
   "execution_count": 330,
   "metadata": {},
   "outputs": [
    {
     "name": "stdout",
     "output_type": "stream",
     "text": [
      "Training time : 0:00:01.709258\n"
     ]
    }
   ],
   "source": [
    "name = \"Naive Bayes - Bernoulli\"\n",
    "classifier = BernoulliNB()\n",
    "train(classifier, name)"
   ]
  },
  {
   "cell_type": "markdown",
   "metadata": {},
   "source": [
    "## SVM - Support Vector Machine"
   ]
  },
  {
   "cell_type": "code",
   "execution_count": 145,
   "metadata": {},
   "outputs": [],
   "source": [
    "name = \"SVM - SVC\"\n",
    "classifier = svm.SVC()\n",
    "C_range = np.logspace(-2, 10, 13)\n",
    "print C_range\n",
    "gamma_range = np.logspace(-9, 3, 13)\n",
    "print gamma_range\n",
    "param_grid = dict(gamma=gamma_range, C=C_range)\n",
    "train(classifier, name, param_grid)"
   ]
  },
  {
   "cell_type": "code",
   "execution_count": 319,
   "metadata": {},
   "outputs": [
    {
     "name": "stdout",
     "output_type": "stream",
     "text": [
      "Training time : 0:01:12.919035\n"
     ]
    }
   ],
   "source": [
    "name = \"SVM - Linear\"\n",
    "classifier = svm.LinearSVC()\n",
    "C_range = range(170,230,5)\n",
    "C_range = range(1,200,10)\n",
    "param_grid = dict(C=C_range)\n",
    "train(classifier, name, param_grid)"
   ]
  },
  {
   "cell_type": "code",
   "execution_count": 334,
   "metadata": {},
   "outputs": [
    {
     "data": {
      "image/png": "[encoded data removed]",
      "text/plain": [
       "<matplotlib.figure.Figure at 0x1139e09d0>"
      ]
     },
     "metadata": {},
     "output_type": "display_data"
    }
   ],
   "source": [
    "for clf_name, result in results.iteritems() :\n",
    "    #plt.clf()\n",
    "    #plt.figure()\n",
    "    if 'grid' in result and (clf_name == 'k-NN' or clf_name == 'Decision tree'):\n",
    "        grid = result['grid']\n",
    "        grid_mean_scores = grid.cv_results_['mean_test_score']\n",
    "        plt.plot(k_range, grid_mean_scores, label=clf_name)\n",
    "        plt.title(\"Test error\")\n",
    "        #plt.title(clf_name)\n",
    "        plt.legend()\n",
    "        plt.xlabel('Parameter value')\n",
    "        plt.ylabel('Cross-Validated Accuracy')\n",
    "        #plt.show()\n",
    "    else : # Model without param\n",
    "        pass"
   ]
  },
  {
   "cell_type": "code",
   "execution_count": 336,
   "metadata": {},
   "outputs": [
    {
     "name": "stdout",
     "output_type": "stream",
     "text": [
      "+---------------------------+------------+--------------------+----+-----+\n",
      "|           Model           | Best score |    Best params     | FP |  TN |\n",
      "+---------------------------+------------+--------------------+----+-----+\n",
      "|        SVM - Linear       |   0.9792   |     {'C': 11}      | 5  |  19 |\n",
      "|            k-NN           |   0.9652   | {'n_neighbors': 1} | 15 |  20 |\n",
      "|       Decision tree       |   0.9368   | {'max_depth': 15}  | 33 |  43 |\n",
      "|   Naive Bayes - Gaussian  |   0.9285   |        None        | 24 |  35 |\n",
      "| Naive Bayes - Multinomial |   0.8739   |        None        | 0  | 104 |\n",
      "|  Naive Bayes - Bernoulli  |   0.7636   |        None        | 14 | 181 |\n",
      "+---------------------------+------------+--------------------+----+-----+\n"
     ]
    }
   ],
   "source": [
    "from prettytable import PrettyTable\n",
    "import operator\n",
    "t = PrettyTable(['Model', 'Best score', 'Best params', 'FP', 'TN'])\n",
    "for clf_name, result in results.iteritems() :\n",
    "    model = result['model']\n",
    "    if 'grid' in result :\n",
    "        grid = result['grid']\n",
    "        # Compute false positives and false negatives\n",
    "        model.__init__(**grid.best_params_)\n",
    "        model.fit(X_train, y_train)\n",
    "        y_pred = model.predict(X_test)\n",
    "        cm = confusion_matrix(y_test, y_pred)\n",
    "        fp = cm[1,0]\n",
    "        tn = cm[0,1]\n",
    "        \n",
    "        t.add_row([clf_name, round(grid.best_score_, 4), grid.best_params_, fp, tn])\n",
    "        #print(result.best_estimator_)\n",
    "    else : # For non grid_search models\n",
    "        #training_error = clf.score(X_train, y_train)\n",
    "        test_error = model.score(X_test, y_test)\n",
    "        \n",
    "        # Compute false positives and false negatives\n",
    "        y_pred = model.predict(X_test)\n",
    "        cm = confusion_matrix(y_test, y_pred)\n",
    "        fp = cm[1,0]\n",
    "        tn = cm[0,1]\n",
    "        t.add_row([clf_name, round(test_error, 4), None, fp, tn])\n",
    "        \n",
    "print t.get_string(sort_key=operator.itemgetter(2, 1), sortby=\"Best score\", reversesort=True)"
   ]
  },
  {
   "cell_type": "markdown",
   "metadata": {},
   "source": [
    "# Prediction"
   ]
  },
  {
   "cell_type": "code",
   "execution_count": null,
   "metadata": {
    "collapsed": true
   },
   "outputs": [],
   "source": []
  },
  {
   "cell_type": "code",
   "execution_count": 386,
   "metadata": {},
   "outputs": [],
   "source": [
    "%%script bash\n",
    "python3 FeaturesFromMail.py TT/ TEST/ >> /dev/null"
   ]
  },
  {
   "cell_type": "code",
   "execution_count": 381,
   "metadata": {},
   "outputs": [],
   "source": [
    "features_kaggle = get_features('TEST')\n",
    "text_kaggle = features_kaggle[0]\n",
    "\n",
    "# Compute TF-IDF features\n",
    "X_kaggle = tfidf.transform(text_kaggle)"
   ]
  },
  {
   "cell_type": "code",
   "execution_count": 382,
   "metadata": {},
   "outputs": [],
   "source": [
    "# Train again the classifier on the whole datasets (X, y) including testing datasets\n",
    "# with the best hyper parameters\n",
    "model = svm.LinearSVC(C=11)\n",
    "model.fit(X, y)\n",
    "\n",
    "# Now predict new mails from the TEST dataset (non-labeled)\n",
    "y_kaggle = model.predict(X_kaggle)"
   ]
  },
  {
   "cell_type": "code",
   "execution_count": 383,
   "metadata": {
    "collapsed": true
   },
   "outputs": [],
   "source": [
    "# Store predicted labels\n",
    "fd = open('spam-mail.tt.label', 'w')\n",
    "fd.write('Id,Prediction')\n",
    "\n",
    "for i in range(0, len(y_kaggle)):\n",
    "    fd.write('\\n%d,%s' % (i+1, y_kaggle[i]))\n",
    "\n",
    "fd.close()"
   ]
  },
  {
   "cell_type": "markdown",
   "metadata": {},
   "source": [
    "# Unsupervised - k-means"
   ]
  },
  {
   "cell_type": "code",
   "execution_count": 337,
   "metadata": {
    "collapsed": true
   },
   "outputs": [],
   "source": [
    "from sklearn.cluster import KMeans\n",
    "kmeans = KMeans(n_clusters=2, random_state=0).fit(X)"
   ]
  },
  {
   "cell_type": "code",
   "execution_count": 356,
   "metadata": {},
   "outputs": [
    {
     "name": "stdout",
     "output_type": "stream",
     "text": [
      "<class 'numpy.matrixlib.defmatrix.matrix'>\n"
     ]
    },
    {
     "data": {
      "text/plain": [
       "<matplotlib.collections.PathCollection at 0x114c6b050>"
      ]
     },
     "execution_count": 356,
     "metadata": {},
     "output_type": "execute_result"
    },
    {
     "data": {
      "image/png": "[encoded data removed]",
      "text/plain": [
       "<matplotlib.figure.Figure at 0x111145f50>"
      ]
     },
     "metadata": {},
     "output_type": "display_data"
    }
   ],
   "source": [
    "from sklearn.decomposition import PCA\n",
    "pca = PCA(n_components=2).fit(X)\n",
    "data2D = pca.transform(X)\n",
    "plt.scatter(data2D[:,0], data2D[:,1], c=kmeans.labels_)"
   ]
  },
  {
   "cell_type": "code",
   "execution_count": 360,
   "metadata": {},
   "outputs": [
    {
     "name": "stdout",
     "output_type": "stream",
     "text": [
      "-2393.58620536\n"
     ]
    }
   ],
   "source": [
    "print kmeans.score(X)"
   ]
  },
  {
   "cell_type": "code",
   "execution_count": null,
   "metadata": {
    "collapsed": true
   },
   "outputs": [],
   "source": []
  }
 ],
 "metadata": {
  "kernelspec": {
   "display_name": "Python 2",
   "language": "python",
   "name": "python2"
  },
  "language_info": {
   "codemirror_mode": {
    "name": "ipython",
    "version": 2
   },
   "file_extension": ".py",
   "mimetype": "text/x-python",
   "name": "python",
   "nbconvert_exporter": "python",
   "pygments_lexer": "ipython2",
   "version": "2.7.13"
  }
 },
 "nbformat": 4,
 "nbformat_minor": 2
}
